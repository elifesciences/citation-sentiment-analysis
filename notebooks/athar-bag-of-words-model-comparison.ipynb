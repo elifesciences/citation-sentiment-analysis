{
 "cells": [
  {
   "cell_type": "code",
   "execution_count": 1,
   "metadata": {},
   "outputs": [],
   "source": [
    "import os\n",
    "import sys\n",
    "import csv\n",
    "from urllib.request import urlretrieve\n",
    "from zipfile import ZipFile\n",
    "from pathlib import Path\n",
    "\n",
    "# from tqdm import tqdm_notebook as tqdm\n",
    "from tqdm import tqdm\n",
    "import numpy as np\n",
    "import pandas as pd\n",
    "import matplotlib.pyplot as plt\n",
    "import requests\n",
    "from tqdm import tqdm\n",
    "\n",
    "import nltk\n",
    "from nltk.stem import PorterStemmer\n",
    "\n",
    "import warnings\n",
    "warnings.filterwarnings('ignore')\n",
    "\n",
    "import sklearn\n",
    "from sklearn.tree import DecisionTreeClassifier\n",
    "from sklearn.ensemble import RandomForestClassifier\n",
    "from sklearn.model_selection import train_test_split\n",
    "from sklearn.metrics import accuracy_score, f1_score, make_scorer\n",
    "from sklearn.naive_bayes import GaussianNB, BernoulliNB\n",
    "from sklearn.svm import SVC\n",
    "from sklearn.feature_extraction.text import TfidfTransformer\n",
    "from sklearn.feature_extraction.text import TfidfVectorizer, CountVectorizer\n",
    "from sklearn.preprocessing import LabelEncoder, FunctionTransformer\n",
    "from sklearn.discriminant_analysis import LinearDiscriminantAnalysis\n",
    "from sklearn.decomposition import LatentDirichletAllocation, TruncatedSVD\n",
    "from sklearn.pipeline import Pipeline\n",
    "from sklearn.model_selection import train_test_split, cross_val_score, cross_validate\n",
    "from sklearn.model_selection import KFold, StratifiedKFold\n",
    "from sklearn.metrics.scorer import check_scoring\n",
    "from sklearn.metrics import roc_auc_score\n",
    "\n",
    "import imblearn.under_sampling\n",
    "import imblearn.over_sampling\n",
    "import imblearn.pipeline\n",
    "\n",
    "from IPython.display import display"
   ]
  },
  {
   "cell_type": "code",
   "execution_count": 2,
   "metadata": {},
   "outputs": [],
   "source": [
    "import sys\n",
    "sys.path.append('../')\n",
    "\n",
    "from citation_sentiment_analysis.datasets.athar import (\n",
    "    download_and_read_athar_txt_with_sentiment_label,\n",
    "    filter_long_sentences_from_athar\n",
    ")\n",
    "from citation_sentiment_analysis.datasets.words_en import download_and_read_english_words\n",
    "from citation_sentiment_analysis.preprocessing.token_filter import (\n",
    "    get_default_words_to_include,\n",
    "    keep_sentence_list_tokens_in,\n",
    "    get_token_counts,\n",
    "    drop_token_counts_not_in_top\n",
    ")\n",
    "from citation_sentiment_analysis.preprocessing.word_similarity import load_glove, most_similar\n",
    "from citation_sentiment_analysis.preprocessing.simple_text import simplify_tokens\n",
    "from citation_sentiment_analysis.utils.collection import iter_flatten\n",
    "from citation_sentiment_analysis.utils.jupyter import printmd\n",
    "from citation_sentiment_analysis.utils.pipeline import (\n",
    "    create_pipelines,\n",
    "    multi_pipeline_steps_cross_validate_scores\n",
    ")\n",
    "from citation_sentiment_analysis.utils.plot import bar_plot_with_numbers, configure_default_plot_style\n",
    "from citation_sentiment_analysis.utils.string import lower_all\n",
    "from citation_sentiment_analysis.utils.vectorizer import transform_to_counts"
   ]
  },
  {
   "cell_type": "code",
   "execution_count": 3,
   "metadata": {},
   "outputs": [],
   "source": [
    "configure_default_plot_style()"
   ]
  },
  {
   "cell_type": "code",
   "execution_count": 4,
   "metadata": {},
   "outputs": [
    {
     "name": "stdout",
     "output_type": "stream",
     "text": [
      "[nltk_data] Downloading package punkt to /home/jovyan/nltk_data...\n",
      "[nltk_data]   Package punkt is already up-to-date!\n",
      "[nltk_data] Downloading package stopwords to /home/jovyan/nltk_data...\n",
      "[nltk_data]   Package stopwords is already up-to-date!\n"
     ]
    },
    {
     "data": {
      "text/plain": [
       "True"
      ]
     },
     "execution_count": 4,
     "metadata": {},
     "output_type": "execute_result"
    }
   ],
   "source": [
    "nltk.download('punkt')\n",
    "nltk.download('stopwords')"
   ]
  },
  {
   "cell_type": "code",
   "execution_count": 5,
   "metadata": {},
   "outputs": [
    {
     "data": {
      "text/html": [
       "<div>\n",
       "<style scoped>\n",
       "    .dataframe tbody tr th:only-of-type {\n",
       "        vertical-align: middle;\n",
       "    }\n",
       "\n",
       "    .dataframe tbody tr th {\n",
       "        vertical-align: top;\n",
       "    }\n",
       "\n",
       "    .dataframe thead th {\n",
       "        text-align: right;\n",
       "    }\n",
       "</style>\n",
       "<table border=\"1\" class=\"dataframe\">\n",
       "  <thead>\n",
       "    <tr style=\"text-align: right;\">\n",
       "      <th></th>\n",
       "      <th>source_paper_id</th>\n",
       "      <th>target_paper_id</th>\n",
       "      <th>sentiment</th>\n",
       "      <th>citation_text</th>\n",
       "      <th>sentiment_label</th>\n",
       "    </tr>\n",
       "  </thead>\n",
       "  <tbody>\n",
       "    <tr>\n",
       "      <th>0</th>\n",
       "      <td>A00-1043</td>\n",
       "      <td>A00-2024</td>\n",
       "      <td>o</td>\n",
       "      <td>We analyzed a set of articles and identified s...</td>\n",
       "      <td>neutral</td>\n",
       "    </tr>\n",
       "    <tr>\n",
       "      <th>1</th>\n",
       "      <td>H05-1033</td>\n",
       "      <td>A00-2024</td>\n",
       "      <td>o</td>\n",
       "      <td>Table 3: Example compressions Compression AvgL...</td>\n",
       "      <td>neutral</td>\n",
       "    </tr>\n",
       "    <tr>\n",
       "      <th>2</th>\n",
       "      <td>I05-2009</td>\n",
       "      <td>A00-2024</td>\n",
       "      <td>o</td>\n",
       "      <td>5.3 Related works and discussion Our two-step ...</td>\n",
       "      <td>neutral</td>\n",
       "    </tr>\n",
       "    <tr>\n",
       "      <th>3</th>\n",
       "      <td>I05-2009</td>\n",
       "      <td>A00-2024</td>\n",
       "      <td>o</td>\n",
       "      <td>(1999) proposed a summarization system based o...</td>\n",
       "      <td>neutral</td>\n",
       "    </tr>\n",
       "    <tr>\n",
       "      <th>4</th>\n",
       "      <td>I05-2009</td>\n",
       "      <td>A00-2024</td>\n",
       "      <td>o</td>\n",
       "      <td>We found that the deletion of lead parts did n...</td>\n",
       "      <td>neutral</td>\n",
       "    </tr>\n",
       "  </tbody>\n",
       "</table>\n",
       "</div>"
      ],
      "text/plain": [
       "  source_paper_id target_paper_id sentiment  \\\n",
       "0        A00-1043        A00-2024         o   \n",
       "1        H05-1033        A00-2024         o   \n",
       "2        I05-2009        A00-2024         o   \n",
       "3        I05-2009        A00-2024         o   \n",
       "4        I05-2009        A00-2024         o   \n",
       "\n",
       "                                       citation_text sentiment_label  \n",
       "0  We analyzed a set of articles and identified s...         neutral  \n",
       "1  Table 3: Example compressions Compression AvgL...         neutral  \n",
       "2  5.3 Related works and discussion Our two-step ...         neutral  \n",
       "3  (1999) proposed a summarization system based o...         neutral  \n",
       "4  We found that the deletion of lead parts did n...         neutral  "
      ]
     },
     "execution_count": 5,
     "metadata": {},
     "output_type": "execute_result"
    }
   ],
   "source": [
    "athar_df = filter_long_sentences_from_athar(download_and_read_athar_txt_with_sentiment_label())\n",
    "athar_df.head()"
   ]
  },
  {
   "cell_type": "code",
   "execution_count": 6,
   "metadata": {},
   "outputs": [
    {
     "name": "stdout",
     "output_type": "stream",
     "text": [
      "number of word vectors: 400000 (embedding size: 50, sample tokens: ['the' ',' '.' 'of' 'to' 'and' 'in' 'a' '\"' \"'s\"])\n",
      "[('although', 0.9801390393473681), ('though', 0.9357160221673086), ('as', 0.9173495762573322), ('both', 0.9053673912921385), ('this', 0.905256886566932), ('but', 0.9050977636062989), ('be', 0.9030219190306548), ('also', 0.9024955114777448), ('latter', 0.8969175661233546), ('.', 0.8953238565845045)]\n"
     ]
    }
   ],
   "source": [
    "w2v = load_glove()\n",
    "print('number of word vectors: %d (embedding size: %d, sample tokens: %s)' % (\n",
    "    len(w2v), len(w2v.iloc[0]), w2v.index[:10].values\n",
    "))\n",
    "print(most_similar(w2v, 'however'))"
   ]
  },
  {
   "cell_type": "code",
   "execution_count": 7,
   "metadata": {},
   "outputs": [
    {
     "name": "stdout",
     "output_type": "stream",
     "text": [
      "[('although', 0.9801390393473681), ('though', 0.9357160221673086), ('as', 0.9173495762573322), ('both', 0.9053673912921385), ('this', 0.905256886566932), ('but', 0.9050977636062989), ('be', 0.9030219190306548), ('also', 0.9024955114777448), ('latter', 0.8969175661233546), ('.', 0.8953238565845045)]\n"
     ]
    }
   ],
   "source": [
    "print(most_similar(w2v, 'however'))"
   ]
  },
  {
   "cell_type": "code",
   "execution_count": 8,
   "metadata": {},
   "outputs": [
    {
     "data": {
      "text/plain": [
       "109442"
      ]
     },
     "execution_count": 8,
     "metadata": {},
     "output_type": "execute_result"
    }
   ],
   "source": [
    "words_to_include = get_default_words_to_include()\n",
    "\n",
    "len(words_to_include)"
   ]
  },
  {
   "cell_type": "code",
   "execution_count": 9,
   "metadata": {},
   "outputs": [
    {
     "name": "stdout",
     "output_type": "stream",
     "text": [
      "total tokens: 384256, unique: 19323\n",
      "['We', 'analyzed', 'a', 'set', 'of', 'articles', 'and', 'identified', 'six', 'major', 'operations', 'that', 'can', 'be', 'used', 'for', 'editing', 'the', 'extracted', 'sentences']\n"
     ]
    }
   ],
   "source": [
    "citation_texts = athar_df['citation_text']\n",
    "# citation_texts = athar_balanced_df['citation_text']\n",
    "\n",
    "citation_tokens = [nltk.word_tokenize(s) for s in citation_texts]\n",
    "print('total tokens: %d, unique: %d' % (\n",
    "    sum(len(tokens) for tokens in citation_tokens),\n",
    "    len({t for tokens in citation_tokens for t in tokens})\n",
    "))\n",
    "print(citation_tokens[0][:20])"
   ]
  },
  {
   "cell_type": "code",
   "execution_count": 10,
   "metadata": {},
   "outputs": [
    {
     "name": "stdout",
     "output_type": "stream",
     "text": [
      "total tokens: 169508, unique: 6205\n",
      "['analyzed', 'set', 'articles', 'and', 'identified', 'six', 'major', 'operations', 'that', 'can', 'used', 'for', 'editing', 'the', 'extracted', 'sentences', 'including', 'removing', 'extraneous', 'phrases']\n"
     ]
    }
   ],
   "source": [
    "citation_filtered_tokens = keep_sentence_list_tokens_in(citation_tokens, words_to_include)\n",
    "print('total tokens: %d, unique: %d' % (\n",
    "    sum(len(tokens) for tokens in citation_filtered_tokens),\n",
    "    len({t for tokens in citation_filtered_tokens for t in tokens})\n",
    "))\n",
    "print(citation_filtered_tokens[0][:20])"
   ]
  },
  {
   "cell_type": "code",
   "execution_count": 11,
   "metadata": {},
   "outputs": [
    {
     "data": {
      "text/html": [
       "<div>\n",
       "<style scoped>\n",
       "    .dataframe tbody tr th:only-of-type {\n",
       "        vertical-align: middle;\n",
       "    }\n",
       "\n",
       "    .dataframe tbody tr th {\n",
       "        vertical-align: top;\n",
       "    }\n",
       "\n",
       "    .dataframe thead th {\n",
       "        text-align: right;\n",
       "    }\n",
       "</style>\n",
       "<table border=\"1\" class=\"dataframe\">\n",
       "  <thead>\n",
       "    <tr style=\"text-align: right;\">\n",
       "      <th></th>\n",
       "      <th>description</th>\n",
       "    </tr>\n",
       "  </thead>\n",
       "  <tbody>\n",
       "    <tr>\n",
       "      <th>count</th>\n",
       "      <td>6205.000000</td>\n",
       "    </tr>\n",
       "    <tr>\n",
       "      <th>mean</th>\n",
       "      <td>27.317969</td>\n",
       "    </tr>\n",
       "    <tr>\n",
       "      <th>std</th>\n",
       "      <td>238.447123</td>\n",
       "    </tr>\n",
       "    <tr>\n",
       "      <th>min</th>\n",
       "      <td>1.000000</td>\n",
       "    </tr>\n",
       "    <tr>\n",
       "      <th>25%</th>\n",
       "      <td>1.000000</td>\n",
       "    </tr>\n",
       "    <tr>\n",
       "      <th>50%</th>\n",
       "      <td>3.000000</td>\n",
       "    </tr>\n",
       "    <tr>\n",
       "      <th>75%</th>\n",
       "      <td>12.000000</td>\n",
       "    </tr>\n",
       "    <tr>\n",
       "      <th>max</th>\n",
       "      <td>13249.000000</td>\n",
       "    </tr>\n",
       "  </tbody>\n",
       "</table>\n",
       "</div>"
      ],
      "text/plain": [
       "        description\n",
       "count   6205.000000\n",
       "mean      27.317969\n",
       "std      238.447123\n",
       "min        1.000000\n",
       "25%        1.000000\n",
       "50%        3.000000\n",
       "75%       12.000000\n",
       "max    13249.000000"
      ]
     },
     "metadata": {},
     "output_type": "display_data"
    },
    {
     "data": {
      "text/html": [
       "<div>\n",
       "<style scoped>\n",
       "    .dataframe tbody tr th:only-of-type {\n",
       "        vertical-align: middle;\n",
       "    }\n",
       "\n",
       "    .dataframe tbody tr th {\n",
       "        vertical-align: top;\n",
       "    }\n",
       "\n",
       "    .dataframe thead th {\n",
       "        text-align: right;\n",
       "    }\n",
       "</style>\n",
       "<table border=\"1\" class=\"dataframe\">\n",
       "  <thead>\n",
       "    <tr style=\"text-align: right;\">\n",
       "      <th></th>\n",
       "      <th>count</th>\n",
       "    </tr>\n",
       "    <tr>\n",
       "      <th>token</th>\n",
       "      <th></th>\n",
       "    </tr>\n",
       "  </thead>\n",
       "  <tbody>\n",
       "    <tr>\n",
       "      <th>prerequisite</th>\n",
       "      <td>1</td>\n",
       "    </tr>\n",
       "    <tr>\n",
       "      <th>doubles</th>\n",
       "      <td>1</td>\n",
       "    </tr>\n",
       "    <tr>\n",
       "      <th>doubly</th>\n",
       "      <td>1</td>\n",
       "    </tr>\n",
       "    <tr>\n",
       "      <th>doubted</th>\n",
       "      <td>1</td>\n",
       "    </tr>\n",
       "    <tr>\n",
       "      <th>killed</th>\n",
       "      <td>1</td>\n",
       "    </tr>\n",
       "  </tbody>\n",
       "</table>\n",
       "</div>"
      ],
      "text/plain": [
       "              count\n",
       "token              \n",
       "prerequisite      1\n",
       "doubles           1\n",
       "doubly            1\n",
       "doubted           1\n",
       "killed            1"
      ]
     },
     "metadata": {},
     "output_type": "display_data"
    }
   ],
   "source": [
    "filtered_token_counts = get_token_counts(iter_flatten(citation_filtered_tokens))\n",
    "display(filtered_token_counts.describe().to_frame('description'))\n",
    "display(filtered_token_counts.tail(5).to_frame('count'))"
   ]
  },
  {
   "cell_type": "code",
   "execution_count": 12,
   "metadata": {},
   "outputs": [
    {
     "name": "stdout",
     "output_type": "stream",
     "text": [
      "['recruiting']\n",
      "['however']\n",
      "['infinity']\n",
      "['following']\n",
      "['abstractors']\n"
     ]
    }
   ],
   "source": [
    "print(list(simplify_tokens(['recruit'], filtered_token_counts, w2v)))\n",
    "print(list(simplify_tokens(['however'], filtered_token_counts, w2v)))\n",
    "print(list(simplify_tokens(['xyz'], filtered_token_counts, w2v)))\n",
    "print(list(simplify_tokens(['subsequent'], filtered_token_counts, w2v)))\n",
    "print(list(simplify_tokens(['abstractors'], filtered_token_counts, w2v)))"
   ]
  },
  {
   "cell_type": "code",
   "execution_count": 13,
   "metadata": {},
   "outputs": [
    {
     "name": "stdout",
     "output_type": "stream",
     "text": [
      "6205                                                \n"
     ]
    }
   ],
   "source": [
    "simplified_token_map = {\n",
    "    token: simplified_token\n",
    "    for token, simplified_token in zip(\n",
    "        filtered_token_counts.index,\n",
    "        list(simplify_tokens(filtered_token_counts.index, filtered_token_counts, w2v, progress=True))\n",
    "    )\n",
    "}\n",
    "print(len(simplified_token_map))"
   ]
  },
  {
   "cell_type": "code",
   "execution_count": 14,
   "metadata": {},
   "outputs": [
    {
     "name": "stdout",
     "output_type": "stream",
     "text": [
      "total tokens: 169508, unique: 1341\n",
      "['evaluated', 'set', 'articles', 'and', 'found', 'five', 'major', 'part', 'that', 'can', 'used', 'for', 'text', 'the', 'extracted', 'sentences', 'including', 'allow', 'correct', 'phrases']\n"
     ]
    }
   ],
   "source": [
    "citation_simplified_tokens = [\n",
    "    [simplified_token_map.get(t, t) for t in tokens]\n",
    "    for tokens in citation_filtered_tokens\n",
    "]\n",
    "print('total tokens: %d, unique: %d' % (\n",
    "    sum(len(tokens) for tokens in citation_simplified_tokens),\n",
    "    len({t for tokens in citation_simplified_tokens for t in tokens})\n",
    "))\n",
    "print(citation_simplified_tokens[0][:20])"
   ]
  },
  {
   "cell_type": "code",
   "execution_count": 15,
   "metadata": {},
   "outputs": [
    {
     "name": "stdout",
     "output_type": "stream",
     "text": [
      "['analyz', 'set', 'articl', 'and', 'identifi', 'six', 'major', 'oper', 'that', 'can', 'use', 'for', 'edit', 'the', 'extract', 'sentenc', 'includ', 'remov', 'extran', 'phrase']\n"
     ]
    }
   ],
   "source": [
    "ps = PorterStemmer()\n",
    "citation_stemmed_tokens = [[ps.stem(t) for t in tokens] for tokens in citation_filtered_tokens]\n",
    "print(citation_stemmed_tokens[0][:20])"
   ]
  },
  {
   "cell_type": "code",
   "execution_count": 16,
   "metadata": {},
   "outputs": [
    {
     "name": "stdout",
     "output_type": "stream",
     "text": [
      "['evalu', 'set', 'articl', 'and', 'found', 'five', 'major', 'part', 'that', 'can', 'use', 'for', 'text', 'the', 'extract', 'sentenc', 'includ', 'allow', 'correct', 'phrase']\n"
     ]
    }
   ],
   "source": [
    "ps = PorterStemmer()\n",
    "citation_simplified_stemmed_tokens = [[ps.stem(t) for t in tokens] for tokens in citation_simplified_tokens]\n",
    "print(citation_simplified_stemmed_tokens[0][:20])"
   ]
  },
  {
   "cell_type": "code",
   "execution_count": 17,
   "metadata": {},
   "outputs": [
    {
     "data": {
      "text/html": [
       "<div>\n",
       "<style scoped>\n",
       "    .dataframe tbody tr th:only-of-type {\n",
       "        vertical-align: middle;\n",
       "    }\n",
       "\n",
       "    .dataframe tbody tr th {\n",
       "        vertical-align: top;\n",
       "    }\n",
       "\n",
       "    .dataframe thead th {\n",
       "        text-align: right;\n",
       "    }\n",
       "</style>\n",
       "<table border=\"1\" class=\"dataframe\">\n",
       "  <thead>\n",
       "    <tr style=\"text-align: right;\">\n",
       "      <th></th>\n",
       "      <th>count</th>\n",
       "      <th>mean</th>\n",
       "      <th>std</th>\n",
       "      <th>min</th>\n",
       "      <th>25%</th>\n",
       "      <th>50%</th>\n",
       "      <th>75%</th>\n",
       "      <th>max</th>\n",
       "    </tr>\n",
       "  </thead>\n",
       "  <tbody>\n",
       "    <tr>\n",
       "      <th>description</th>\n",
       "      <td>3617.0</td>\n",
       "      <td>46.864252</td>\n",
       "      <td>322.632801</td>\n",
       "      <td>1.0</td>\n",
       "      <td>1.0</td>\n",
       "      <td>5.0</td>\n",
       "      <td>21.0</td>\n",
       "      <td>13249.0</td>\n",
       "    </tr>\n",
       "  </tbody>\n",
       "</table>\n",
       "</div>"
      ],
      "text/plain": [
       "              count       mean         std  min  25%  50%   75%      max\n",
       "description  3617.0  46.864252  322.632801  1.0  1.0  5.0  21.0  13249.0"
      ]
     },
     "metadata": {},
     "output_type": "display_data"
    },
    {
     "data": {
      "text/html": [
       "<div>\n",
       "<style scoped>\n",
       "    .dataframe tbody tr th:only-of-type {\n",
       "        vertical-align: middle;\n",
       "    }\n",
       "\n",
       "    .dataframe tbody tr th {\n",
       "        vertical-align: top;\n",
       "    }\n",
       "\n",
       "    .dataframe thead th {\n",
       "        text-align: right;\n",
       "    }\n",
       "</style>\n",
       "<table border=\"1\" class=\"dataframe\">\n",
       "  <thead>\n",
       "    <tr style=\"text-align: right;\">\n",
       "      <th>token</th>\n",
       "      <th>the</th>\n",
       "      <th>and</th>\n",
       "      <th>use</th>\n",
       "      <th>for</th>\n",
       "      <th>model</th>\n",
       "      <th>word</th>\n",
       "      <th>that</th>\n",
       "      <th>with</th>\n",
       "      <th>translat</th>\n",
       "      <th>are</th>\n",
       "    </tr>\n",
       "  </thead>\n",
       "  <tbody>\n",
       "    <tr>\n",
       "      <th>most frequent</th>\n",
       "      <td>13249</td>\n",
       "      <td>10966</td>\n",
       "      <td>3511</td>\n",
       "      <td>3313</td>\n",
       "      <td>2965</td>\n",
       "      <td>1964</td>\n",
       "      <td>1739</td>\n",
       "      <td>1679</td>\n",
       "      <td>1661</td>\n",
       "      <td>1538</td>\n",
       "    </tr>\n",
       "  </tbody>\n",
       "</table>\n",
       "</div>"
      ],
      "text/plain": [
       "token            the    and   use   for  model  word  that  with  translat  \\\n",
       "most frequent  13249  10966  3511  3313   2965  1964  1739  1679      1661   \n",
       "\n",
       "token           are  \n",
       "most frequent  1538  "
      ]
     },
     "metadata": {},
     "output_type": "display_data"
    },
    {
     "data": {
      "text/html": [
       "<div>\n",
       "<style scoped>\n",
       "    .dataframe tbody tr th:only-of-type {\n",
       "        vertical-align: middle;\n",
       "    }\n",
       "\n",
       "    .dataframe tbody tr th {\n",
       "        vertical-align: top;\n",
       "    }\n",
       "\n",
       "    .dataframe thead th {\n",
       "        text-align: right;\n",
       "    }\n",
       "</style>\n",
       "<table border=\"1\" class=\"dataframe\">\n",
       "  <thead>\n",
       "    <tr style=\"text-align: right;\">\n",
       "      <th>token</th>\n",
       "      <th>sport</th>\n",
       "      <th>malform</th>\n",
       "      <th>dollar</th>\n",
       "      <th>speedi</th>\n",
       "      <th>spectrum</th>\n",
       "      <th>malais</th>\n",
       "      <th>spearman</th>\n",
       "      <th>spear</th>\n",
       "      <th>mal</th>\n",
       "      <th>era</th>\n",
       "    </tr>\n",
       "  </thead>\n",
       "  <tbody>\n",
       "    <tr>\n",
       "      <th>least frequent</th>\n",
       "      <td>1</td>\n",
       "      <td>1</td>\n",
       "      <td>1</td>\n",
       "      <td>1</td>\n",
       "      <td>1</td>\n",
       "      <td>1</td>\n",
       "      <td>1</td>\n",
       "      <td>1</td>\n",
       "      <td>1</td>\n",
       "      <td>1</td>\n",
       "    </tr>\n",
       "  </tbody>\n",
       "</table>\n",
       "</div>"
      ],
      "text/plain": [
       "token           sport  malform  dollar  speedi  spectrum  malais  spearman  \\\n",
       "least frequent      1        1       1       1         1       1         1   \n",
       "\n",
       "token           spear  mal  era  \n",
       "least frequent      1    1    1  "
      ]
     },
     "metadata": {},
     "output_type": "display_data"
    },
    {
     "data": {
      "text/html": [
       "<div>\n",
       "<style scoped>\n",
       "    .dataframe tbody tr th:only-of-type {\n",
       "        vertical-align: middle;\n",
       "    }\n",
       "\n",
       "    .dataframe tbody tr th {\n",
       "        vertical-align: top;\n",
       "    }\n",
       "\n",
       "    .dataframe thead th {\n",
       "        text-align: right;\n",
       "    }\n",
       "</style>\n",
       "<table border=\"1\" class=\"dataframe\">\n",
       "  <thead>\n",
       "    <tr style=\"text-align: right;\">\n",
       "      <th>token</th>\n",
       "      <th>evert</th>\n",
       "      <th>dia</th>\n",
       "      <th>cat</th>\n",
       "      <th>prefix</th>\n",
       "      <th>dimension</th>\n",
       "      <th>brook</th>\n",
       "      <th>oppos</th>\n",
       "      <th>hereaft</th>\n",
       "      <th>hall</th>\n",
       "      <th>sigmoid</th>\n",
       "    </tr>\n",
       "  </thead>\n",
       "  <tbody>\n",
       "    <tr>\n",
       "      <th>less than 10</th>\n",
       "      <td>9</td>\n",
       "      <td>9</td>\n",
       "      <td>9</td>\n",
       "      <td>9</td>\n",
       "      <td>9</td>\n",
       "      <td>9</td>\n",
       "      <td>9</td>\n",
       "      <td>9</td>\n",
       "      <td>9</td>\n",
       "      <td>9</td>\n",
       "    </tr>\n",
       "  </tbody>\n",
       "</table>\n",
       "</div>"
      ],
      "text/plain": [
       "token         evert  dia  cat  prefix  dimension  brook  oppos  hereaft  hall  \\\n",
       "less than 10      9    9    9       9          9      9      9        9     9   \n",
       "\n",
       "token         sigmoid  \n",
       "less than 10        9  "
      ]
     },
     "metadata": {},
     "output_type": "display_data"
    },
    {
     "name": "stdout",
     "output_type": "stream",
     "text": [
      "total number of tokens: 3617\n",
      "number of tokens only appearing once: 928\n",
      "number of tokens appearing less than 10 times: 2282\n"
     ]
    },
    {
     "data": {
      "image/png": "[encoded data removed]",
      "text/plain": [
       "<Figure size 1440x720 with 1 Axes>"
      ]
     },
     "metadata": {},
     "output_type": "display_data"
    }
   ],
   "source": [
    "def show_token_count_stats(token_counts):\n",
    "    display(token_counts.describe().to_frame('description').T)\n",
    "    display(token_counts.head(10).to_frame('most frequent').T)\n",
    "    display(token_counts.tail(10).to_frame('least frequent').T)\n",
    "    display(token_counts[token_counts < 10].head(10).to_frame('less than 10').T)\n",
    "    print('total number of tokens:', len(token_counts))\n",
    "    print('number of tokens only appearing once:', sum(token_counts == 1))\n",
    "    print('number of tokens appearing less than 10 times:', sum(token_counts < 10))\n",
    "\n",
    "    fig, ax = plt.subplots()\n",
    "    token_counts.hist(ax=ax, bins=100, bottom=0.1)\n",
    "    ax.set_yscale('log')\n",
    "\n",
    "token_counts = get_token_counts(iter_flatten(citation_stemmed_tokens))\n",
    "show_token_count_stats(token_counts)"
   ]
  },
  {
   "cell_type": "code",
   "execution_count": 18,
   "metadata": {},
   "outputs": [
    {
     "data": {
      "image/png": "[encoded data removed]",
      "text/plain": [
       "<Figure size 1440x720 with 1 Axes>"
      ]
     },
     "metadata": {},
     "output_type": "display_data"
    }
   ],
   "source": [
    "fig, ax = plt.subplots()\n",
    "token_counts[token_counts < 1000].hist(ax=ax, bins=100, bottom=0.1)\n",
    "ax.set_yscale('log')"
   ]
  },
  {
   "cell_type": "code",
   "execution_count": 19,
   "metadata": {},
   "outputs": [
    {
     "data": {
      "text/html": [
       "<div>\n",
       "<style scoped>\n",
       "    .dataframe tbody tr th:only-of-type {\n",
       "        vertical-align: middle;\n",
       "    }\n",
       "\n",
       "    .dataframe tbody tr th {\n",
       "        vertical-align: top;\n",
       "    }\n",
       "\n",
       "    .dataframe thead th {\n",
       "        text-align: right;\n",
       "    }\n",
       "</style>\n",
       "<table border=\"1\" class=\"dataframe\">\n",
       "  <thead>\n",
       "    <tr style=\"text-align: right;\">\n",
       "      <th></th>\n",
       "      <th>count</th>\n",
       "      <th>mean</th>\n",
       "      <th>std</th>\n",
       "      <th>min</th>\n",
       "      <th>25%</th>\n",
       "      <th>50%</th>\n",
       "      <th>75%</th>\n",
       "      <th>max</th>\n",
       "    </tr>\n",
       "  </thead>\n",
       "  <tbody>\n",
       "    <tr>\n",
       "      <th>description</th>\n",
       "      <td>1042.0</td>\n",
       "      <td>162.675624</td>\n",
       "      <td>594.772952</td>\n",
       "      <td>1.0</td>\n",
       "      <td>3.0</td>\n",
       "      <td>62.0</td>\n",
       "      <td>162.0</td>\n",
       "      <td>13249.0</td>\n",
       "    </tr>\n",
       "  </tbody>\n",
       "</table>\n",
       "</div>"
      ],
      "text/plain": [
       "              count        mean         std  min  25%   50%    75%      max\n",
       "description  1042.0  162.675624  594.772952  1.0  3.0  62.0  162.0  13249.0"
      ]
     },
     "metadata": {},
     "output_type": "display_data"
    },
    {
     "data": {
      "text/html": [
       "<div>\n",
       "<style scoped>\n",
       "    .dataframe tbody tr th:only-of-type {\n",
       "        vertical-align: middle;\n",
       "    }\n",
       "\n",
       "    .dataframe tbody tr th {\n",
       "        vertical-align: top;\n",
       "    }\n",
       "\n",
       "    .dataframe thead th {\n",
       "        text-align: right;\n",
       "    }\n",
       "</style>\n",
       "<table border=\"1\" class=\"dataframe\">\n",
       "  <thead>\n",
       "    <tr style=\"text-align: right;\">\n",
       "      <th>token</th>\n",
       "      <th>the</th>\n",
       "      <th>and</th>\n",
       "      <th>use</th>\n",
       "      <th>for</th>\n",
       "      <th>model</th>\n",
       "      <th>word</th>\n",
       "      <th>that</th>\n",
       "      <th>translat</th>\n",
       "      <th>with</th>\n",
       "      <th>are</th>\n",
       "    </tr>\n",
       "  </thead>\n",
       "  <tbody>\n",
       "    <tr>\n",
       "      <th>most frequent</th>\n",
       "      <td>13249</td>\n",
       "      <td>10993</td>\n",
       "      <td>3682</td>\n",
       "      <td>3339</td>\n",
       "      <td>3083</td>\n",
       "      <td>2006</td>\n",
       "      <td>1739</td>\n",
       "      <td>1687</td>\n",
       "      <td>1679</td>\n",
       "      <td>1538</td>\n",
       "    </tr>\n",
       "  </tbody>\n",
       "</table>\n",
       "</div>"
      ],
      "text/plain": [
       "token            the    and   use   for  model  word  that  translat  with  \\\n",
       "most frequent  13249  10993  3682  3339   3083  2006  1739      1687  1679   \n",
       "\n",
       "token           are  \n",
       "most frequent  1538  "
      ]
     },
     "metadata": {},
     "output_type": "display_data"
    },
    {
     "data": {
      "text/html": [
       "<div>\n",
       "<style scoped>\n",
       "    .dataframe tbody tr th:only-of-type {\n",
       "        vertical-align: middle;\n",
       "    }\n",
       "\n",
       "    .dataframe tbody tr th {\n",
       "        vertical-align: top;\n",
       "    }\n",
       "\n",
       "    .dataframe thead th {\n",
       "        text-align: right;\n",
       "    }\n",
       "</style>\n",
       "<table border=\"1\" class=\"dataframe\">\n",
       "  <thead>\n",
       "    <tr style=\"text-align: right;\">\n",
       "      <th>token</th>\n",
       "      <th>pipag</th>\n",
       "      <th>pipe</th>\n",
       "      <th>pirat</th>\n",
       "      <th>pli</th>\n",
       "      <th>poller</th>\n",
       "      <th>porter</th>\n",
       "      <th>constel</th>\n",
       "      <th>poss</th>\n",
       "      <th>consecut</th>\n",
       "      <th>zen</th>\n",
       "    </tr>\n",
       "  </thead>\n",
       "  <tbody>\n",
       "    <tr>\n",
       "      <th>least frequent</th>\n",
       "      <td>1</td>\n",
       "      <td>1</td>\n",
       "      <td>1</td>\n",
       "      <td>1</td>\n",
       "      <td>1</td>\n",
       "      <td>1</td>\n",
       "      <td>1</td>\n",
       "      <td>1</td>\n",
       "      <td>1</td>\n",
       "      <td>1</td>\n",
       "    </tr>\n",
       "  </tbody>\n",
       "</table>\n",
       "</div>"
      ],
      "text/plain": [
       "token           pipag  pipe  pirat  pli  poller  porter  constel  poss  \\\n",
       "least frequent      1     1      1    1       1       1        1     1   \n",
       "\n",
       "token           consecut  zen  \n",
       "least frequent         1    1  "
      ]
     },
     "metadata": {},
     "output_type": "display_data"
    },
    {
     "data": {
      "text/html": [
       "<div>\n",
       "<style scoped>\n",
       "    .dataframe tbody tr th:only-of-type {\n",
       "        vertical-align: middle;\n",
       "    }\n",
       "\n",
       "    .dataframe tbody tr th {\n",
       "        vertical-align: top;\n",
       "    }\n",
       "\n",
       "    .dataframe thead th {\n",
       "        text-align: right;\n",
       "    }\n",
       "</style>\n",
       "<table border=\"1\" class=\"dataframe\">\n",
       "  <thead>\n",
       "    <tr style=\"text-align: right;\">\n",
       "      <th>token</th>\n",
       "      <th>evert</th>\n",
       "      <th>appendix</th>\n",
       "      <th>abduct</th>\n",
       "      <th>pyramid</th>\n",
       "      <th>quat</th>\n",
       "      <th>rasp</th>\n",
       "      <th>synonymi</th>\n",
       "      <th>hereaft</th>\n",
       "      <th>lex</th>\n",
       "      <th>converg</th>\n",
       "    </tr>\n",
       "  </thead>\n",
       "  <tbody>\n",
       "    <tr>\n",
       "      <th>less than 10</th>\n",
       "      <td>9</td>\n",
       "      <td>9</td>\n",
       "      <td>9</td>\n",
       "      <td>9</td>\n",
       "      <td>9</td>\n",
       "      <td>9</td>\n",
       "      <td>9</td>\n",
       "      <td>9</td>\n",
       "      <td>8</td>\n",
       "      <td>8</td>\n",
       "    </tr>\n",
       "  </tbody>\n",
       "</table>\n",
       "</div>"
      ],
      "text/plain": [
       "token         evert  appendix  abduct  pyramid  quat  rasp  synonymi  hereaft  \\\n",
       "less than 10      9         9       9        9     9     9         9        9   \n",
       "\n",
       "token         lex  converg  \n",
       "less than 10    8        8  "
      ]
     },
     "metadata": {},
     "output_type": "display_data"
    },
    {
     "name": "stdout",
     "output_type": "stream",
     "text": [
      "total number of tokens: 1042\n",
      "number of tokens only appearing once: 181\n",
      "number of tokens appearing less than 10 times: 345\n"
     ]
    },
    {
     "data": {
      "image/png": "[encoded data removed]",
      "text/plain": [
       "<Figure size 1440x720 with 1 Axes>"
      ]
     },
     "metadata": {},
     "output_type": "display_data"
    }
   ],
   "source": [
    "simplified_token_counts = get_token_counts(iter_flatten(citation_simplified_stemmed_tokens))\n",
    "show_token_count_stats(simplified_token_counts)"
   ]
  },
  {
   "cell_type": "code",
   "execution_count": 20,
   "metadata": {},
   "outputs": [
    {
     "name": "stdout",
     "output_type": "stream",
     "text": [
      "(8699, 3617)\n",
      "(8699,)\n"
     ]
    }
   ],
   "source": [
    "X_all = transform_to_counts(citation_stemmed_tokens)\n",
    "y_all = athar_df['sentiment'] == 'n'\n",
    "\n",
    "print(X_all.shape)\n",
    "print(y_all.shape)"
   ]
  },
  {
   "cell_type": "code",
   "execution_count": 21,
   "metadata": {},
   "outputs": [
    {
     "name": "stdout",
     "output_type": "stream",
     "text": [
      "roc_auc mean: 0.770593509736653, std: 0.0432709152384011\n"
     ]
    }
   ],
   "source": [
    "scores = cross_val_score(\n",
    "    BernoulliNB(), X_all, y_all, cv=4, scoring='roc_auc'\n",
    ")\n",
    "print('roc_auc mean: %s, std: %s' % (scores.mean(), scores.std()))"
   ]
  },
  {
   "cell_type": "code",
   "execution_count": 22,
   "metadata": {},
   "outputs": [
    {
     "data": {
      "text/plain": [
       "0.9513108614232211"
      ]
     },
     "execution_count": 22,
     "metadata": {},
     "output_type": "execute_result"
    }
   ],
   "source": [
    "model = DecisionTreeClassifier()\n",
    "model.fit(X_all, y_all)\n",
    "f1_score(y_all, model.predict(X_all))"
   ]
  },
  {
   "cell_type": "code",
   "execution_count": 23,
   "metadata": {},
   "outputs": [],
   "source": [
    "default_samplers = [\n",
    "    imblearn.over_sampling.RandomOverSampler(random_state=42),\n",
    "    imblearn.under_sampling.RandomUnderSampler(random_state=42),\n",
    "]\n",
    "\n",
    "default_models = [\n",
    "    BernoulliNB(),\n",
    "    DecisionTreeClassifier(random_state=42),\n",
    "    RandomForestClassifier(random_state=42),\n",
    "]\n",
    "\n",
    "default_pipelines = create_pipelines([\n",
    "    ('sampler', default_samplers),\n",
    "    ('model', default_models)\n",
    "])"
   ]
  },
  {
   "cell_type": "code",
   "execution_count": 24,
   "metadata": {},
   "outputs": [
    {
     "data": {
      "text/markdown": [
       "## Generally filtered tokens"
      ],
      "text/plain": [
       "<IPython.core.display.Markdown object>"
      ]
     },
     "metadata": {},
     "output_type": "display_data"
    },
    {
     "data": {
      "text/markdown": [
       "X (8699, 3617) -> y (8699,)"
      ],
      "text/plain": [
       "<IPython.core.display.Markdown object>"
      ]
     },
     "metadata": {},
     "output_type": "display_data"
    },
    {
     "name": "stdout",
     "output_type": "stream",
     "text": [
      "                                             \r"
     ]
    },
    {
     "data": {
      "text/html": [
       "<div>\n",
       "<style scoped>\n",
       "    .dataframe tbody tr th:only-of-type {\n",
       "        vertical-align: middle;\n",
       "    }\n",
       "\n",
       "    .dataframe tbody tr th {\n",
       "        vertical-align: top;\n",
       "    }\n",
       "\n",
       "    .dataframe thead tr th {\n",
       "        text-align: left;\n",
       "    }\n",
       "</style>\n",
       "<table border=\"1\" class=\"dataframe\">\n",
       "  <thead>\n",
       "    <tr>\n",
       "      <th></th>\n",
       "      <th>sampler</th>\n",
       "      <th>model</th>\n",
       "      <th colspan=\"2\" halign=\"left\">accuracy</th>\n",
       "      <th colspan=\"2\" halign=\"left\">f1</th>\n",
       "      <th colspan=\"2\" halign=\"left\">precision</th>\n",
       "      <th colspan=\"2\" halign=\"left\">recall</th>\n",
       "      <th colspan=\"2\" halign=\"left\">roc_auc</th>\n",
       "    </tr>\n",
       "    <tr>\n",
       "      <th></th>\n",
       "      <th></th>\n",
       "      <th></th>\n",
       "      <th>mean</th>\n",
       "      <th>std</th>\n",
       "      <th>mean</th>\n",
       "      <th>std</th>\n",
       "      <th>mean</th>\n",
       "      <th>std</th>\n",
       "      <th>mean</th>\n",
       "      <th>std</th>\n",
       "      <th>mean</th>\n",
       "      <th>std</th>\n",
       "    </tr>\n",
       "  </thead>\n",
       "  <tbody>\n",
       "    <tr>\n",
       "      <th>3</th>\n",
       "      <td>RandomUnderSampler</td>\n",
       "      <td>BernoulliNB</td>\n",
       "      <td>0.798022</td>\n",
       "      <td>0.009733</td>\n",
       "      <td>0.186017</td>\n",
       "      <td>0.023907</td>\n",
       "      <td>0.106910</td>\n",
       "      <td>0.014694</td>\n",
       "      <td>0.720986</td>\n",
       "      <td>0.079838</td>\n",
       "      <td>0.824288</td>\n",
       "      <td>0.020029</td>\n",
       "    </tr>\n",
       "    <tr>\n",
       "      <th>5</th>\n",
       "      <td>RandomUnderSampler</td>\n",
       "      <td>RandomForestClassifier</td>\n",
       "      <td>0.803425</td>\n",
       "      <td>0.033205</td>\n",
       "      <td>0.163542</td>\n",
       "      <td>0.030584</td>\n",
       "      <td>0.095508</td>\n",
       "      <td>0.020272</td>\n",
       "      <td>0.588616</td>\n",
       "      <td>0.047324</td>\n",
       "      <td>0.784089</td>\n",
       "      <td>0.019967</td>\n",
       "    </tr>\n",
       "    <tr>\n",
       "      <th>0</th>\n",
       "      <td>RandomOverSampler</td>\n",
       "      <td>BernoulliNB</td>\n",
       "      <td>0.922290</td>\n",
       "      <td>0.007719</td>\n",
       "      <td>0.263766</td>\n",
       "      <td>0.018087</td>\n",
       "      <td>0.191972</td>\n",
       "      <td>0.026684</td>\n",
       "      <td>0.436356</td>\n",
       "      <td>0.059194</td>\n",
       "      <td>0.772878</td>\n",
       "      <td>0.019128</td>\n",
       "    </tr>\n",
       "    <tr>\n",
       "      <th>2</th>\n",
       "      <td>RandomOverSampler</td>\n",
       "      <td>RandomForestClassifier</td>\n",
       "      <td>0.965973</td>\n",
       "      <td>0.003259</td>\n",
       "      <td>0.094665</td>\n",
       "      <td>0.033336</td>\n",
       "      <td>0.325874</td>\n",
       "      <td>0.119525</td>\n",
       "      <td>0.055540</td>\n",
       "      <td>0.019516</td>\n",
       "      <td>0.761414</td>\n",
       "      <td>0.004964</td>\n",
       "    </tr>\n",
       "    <tr>\n",
       "      <th>4</th>\n",
       "      <td>RandomUnderSampler</td>\n",
       "      <td>DecisionTreeClassifier</td>\n",
       "      <td>0.727668</td>\n",
       "      <td>0.016126</td>\n",
       "      <td>0.146738</td>\n",
       "      <td>0.016373</td>\n",
       "      <td>0.081644</td>\n",
       "      <td>0.009640</td>\n",
       "      <td>0.733908</td>\n",
       "      <td>0.099518</td>\n",
       "      <td>0.730825</td>\n",
       "      <td>0.041008</td>\n",
       "    </tr>\n",
       "    <tr>\n",
       "      <th>1</th>\n",
       "      <td>RandomOverSampler</td>\n",
       "      <td>DecisionTreeClassifier</td>\n",
       "      <td>0.924474</td>\n",
       "      <td>0.007744</td>\n",
       "      <td>0.194466</td>\n",
       "      <td>0.016241</td>\n",
       "      <td>0.150431</td>\n",
       "      <td>0.024687</td>\n",
       "      <td>0.284589</td>\n",
       "      <td>0.029595</td>\n",
       "      <td>0.615197</td>\n",
       "      <td>0.009309</td>\n",
       "    </tr>\n",
       "  </tbody>\n",
       "</table>\n",
       "</div>"
      ],
      "text/plain": [
       "              sampler                   model  accuracy                  f1  \\\n",
       "                                                   mean       std      mean   \n",
       "3  RandomUnderSampler             BernoulliNB  0.798022  0.009733  0.186017   \n",
       "5  RandomUnderSampler  RandomForestClassifier  0.803425  0.033205  0.163542   \n",
       "0   RandomOverSampler             BernoulliNB  0.922290  0.007719  0.263766   \n",
       "2   RandomOverSampler  RandomForestClassifier  0.965973  0.003259  0.094665   \n",
       "4  RandomUnderSampler  DecisionTreeClassifier  0.727668  0.016126  0.146738   \n",
       "1   RandomOverSampler  DecisionTreeClassifier  0.924474  0.007744  0.194466   \n",
       "\n",
       "            precision              recall             roc_auc            \n",
       "        std      mean       std      mean       std      mean       std  \n",
       "3  0.023907  0.106910  0.014694  0.720986  0.079838  0.824288  0.020029  \n",
       "5  0.030584  0.095508  0.020272  0.588616  0.047324  0.784089  0.019967  \n",
       "0  0.018087  0.191972  0.026684  0.436356  0.059194  0.772878  0.019128  \n",
       "2  0.033336  0.325874  0.119525  0.055540  0.019516  0.761414  0.004964  \n",
       "4  0.016373  0.081644  0.009640  0.733908  0.099518  0.730825  0.041008  \n",
       "1  0.016241  0.150431  0.024687  0.284589  0.029595  0.615197  0.009309  "
      ]
     },
     "execution_count": 24,
     "metadata": {},
     "output_type": "execute_result"
    }
   ],
   "source": [
    "printmd('## Generally filtered tokens')\n",
    "multi_pipeline_steps_cross_validate_scores(\n",
    "    default_pipelines,\n",
    "    transform_to_counts(citation_stemmed_tokens), y_all,\n",
    "    cv=KFold(n_splits=4, shuffle=True, random_state=42),\n",
    "    scoring=('roc_auc', 'accuracy', 'f1', 'precision', 'recall')\n",
    ").groupby(['sampler', 'model']).agg(['mean', 'std']).reset_index().sort_values(\n",
    "    ('roc_auc', 'mean'), ascending=False\n",
    ")"
   ]
  },
  {
   "cell_type": "code",
   "execution_count": 25,
   "metadata": {},
   "outputs": [
    {
     "data": {
      "text/markdown": [
       "## Top 100 tokens"
      ],
      "text/plain": [
       "<IPython.core.display.Markdown object>"
      ]
     },
     "metadata": {},
     "output_type": "display_data"
    },
    {
     "data": {
      "text/markdown": [
       "X (8699, 100) -> y (8699,)"
      ],
      "text/plain": [
       "<IPython.core.display.Markdown object>"
      ]
     },
     "metadata": {},
     "output_type": "display_data"
    },
    {
     "name": "stdout",
     "output_type": "stream",
     "text": [
      "                                             \r"
     ]
    },
    {
     "data": {
      "text/html": [
       "<div>\n",
       "<style scoped>\n",
       "    .dataframe tbody tr th:only-of-type {\n",
       "        vertical-align: middle;\n",
       "    }\n",
       "\n",
       "    .dataframe tbody tr th {\n",
       "        vertical-align: top;\n",
       "    }\n",
       "\n",
       "    .dataframe thead tr th {\n",
       "        text-align: left;\n",
       "    }\n",
       "</style>\n",
       "<table border=\"1\" class=\"dataframe\">\n",
       "  <thead>\n",
       "    <tr>\n",
       "      <th></th>\n",
       "      <th>sampler</th>\n",
       "      <th>model</th>\n",
       "      <th colspan=\"2\" halign=\"left\">accuracy</th>\n",
       "      <th colspan=\"2\" halign=\"left\">f1</th>\n",
       "      <th colspan=\"2\" halign=\"left\">precision</th>\n",
       "      <th colspan=\"2\" halign=\"left\">recall</th>\n",
       "      <th colspan=\"2\" halign=\"left\">roc_auc</th>\n",
       "    </tr>\n",
       "    <tr>\n",
       "      <th></th>\n",
       "      <th></th>\n",
       "      <th></th>\n",
       "      <th>mean</th>\n",
       "      <th>std</th>\n",
       "      <th>mean</th>\n",
       "      <th>std</th>\n",
       "      <th>mean</th>\n",
       "      <th>std</th>\n",
       "      <th>mean</th>\n",
       "      <th>std</th>\n",
       "      <th>mean</th>\n",
       "      <th>std</th>\n",
       "    </tr>\n",
       "  </thead>\n",
       "  <tbody>\n",
       "    <tr>\n",
       "      <th>0</th>\n",
       "      <td>RandomOverSampler</td>\n",
       "      <td>BernoulliNB</td>\n",
       "      <td>0.749396</td>\n",
       "      <td>0.012194</td>\n",
       "      <td>0.143024</td>\n",
       "      <td>0.016577</td>\n",
       "      <td>0.080482</td>\n",
       "      <td>0.010417</td>\n",
       "      <td>0.652414</td>\n",
       "      <td>0.054347</td>\n",
       "      <td>0.758290</td>\n",
       "      <td>0.016418</td>\n",
       "    </tr>\n",
       "    <tr>\n",
       "      <th>3</th>\n",
       "      <td>RandomUnderSampler</td>\n",
       "      <td>BernoulliNB</td>\n",
       "      <td>0.682147</td>\n",
       "      <td>0.020601</td>\n",
       "      <td>0.120707</td>\n",
       "      <td>0.013057</td>\n",
       "      <td>0.066340</td>\n",
       "      <td>0.007885</td>\n",
       "      <td>0.681971</td>\n",
       "      <td>0.074661</td>\n",
       "      <td>0.740386</td>\n",
       "      <td>0.030338</td>\n",
       "    </tr>\n",
       "    <tr>\n",
       "      <th>5</th>\n",
       "      <td>RandomUnderSampler</td>\n",
       "      <td>RandomForestClassifier</td>\n",
       "      <td>0.679391</td>\n",
       "      <td>0.020810</td>\n",
       "      <td>0.117464</td>\n",
       "      <td>0.018011</td>\n",
       "      <td>0.064592</td>\n",
       "      <td>0.011020</td>\n",
       "      <td>0.662326</td>\n",
       "      <td>0.038632</td>\n",
       "      <td>0.712363</td>\n",
       "      <td>0.026893</td>\n",
       "    </tr>\n",
       "    <tr>\n",
       "      <th>2</th>\n",
       "      <td>RandomOverSampler</td>\n",
       "      <td>RandomForestClassifier</td>\n",
       "      <td>0.961834</td>\n",
       "      <td>0.003958</td>\n",
       "      <td>0.061958</td>\n",
       "      <td>0.008407</td>\n",
       "      <td>0.174053</td>\n",
       "      <td>0.092665</td>\n",
       "      <td>0.039254</td>\n",
       "      <td>0.005000</td>\n",
       "      <td>0.648997</td>\n",
       "      <td>0.021711</td>\n",
       "    </tr>\n",
       "    <tr>\n",
       "      <th>4</th>\n",
       "      <td>RandomUnderSampler</td>\n",
       "      <td>DecisionTreeClassifier</td>\n",
       "      <td>0.603517</td>\n",
       "      <td>0.034377</td>\n",
       "      <td>0.098490</td>\n",
       "      <td>0.010430</td>\n",
       "      <td>0.053188</td>\n",
       "      <td>0.006056</td>\n",
       "      <td>0.677630</td>\n",
       "      <td>0.086998</td>\n",
       "      <td>0.636568</td>\n",
       "      <td>0.027102</td>\n",
       "    </tr>\n",
       "    <tr>\n",
       "      <th>1</th>\n",
       "      <td>RandomOverSampler</td>\n",
       "      <td>DecisionTreeClassifier</td>\n",
       "      <td>0.928497</td>\n",
       "      <td>0.005987</td>\n",
       "      <td>0.103496</td>\n",
       "      <td>0.035180</td>\n",
       "      <td>0.087843</td>\n",
       "      <td>0.030821</td>\n",
       "      <td>0.127812</td>\n",
       "      <td>0.043218</td>\n",
       "      <td>0.539748</td>\n",
       "      <td>0.024735</td>\n",
       "    </tr>\n",
       "  </tbody>\n",
       "</table>\n",
       "</div>"
      ],
      "text/plain": [
       "              sampler                   model  accuracy                  f1  \\\n",
       "                                                   mean       std      mean   \n",
       "0   RandomOverSampler             BernoulliNB  0.749396  0.012194  0.143024   \n",
       "3  RandomUnderSampler             BernoulliNB  0.682147  0.020601  0.120707   \n",
       "5  RandomUnderSampler  RandomForestClassifier  0.679391  0.020810  0.117464   \n",
       "2   RandomOverSampler  RandomForestClassifier  0.961834  0.003958  0.061958   \n",
       "4  RandomUnderSampler  DecisionTreeClassifier  0.603517  0.034377  0.098490   \n",
       "1   RandomOverSampler  DecisionTreeClassifier  0.928497  0.005987  0.103496   \n",
       "\n",
       "            precision              recall             roc_auc            \n",
       "        std      mean       std      mean       std      mean       std  \n",
       "0  0.016577  0.080482  0.010417  0.652414  0.054347  0.758290  0.016418  \n",
       "3  0.013057  0.066340  0.007885  0.681971  0.074661  0.740386  0.030338  \n",
       "5  0.018011  0.064592  0.011020  0.662326  0.038632  0.712363  0.026893  \n",
       "2  0.008407  0.174053  0.092665  0.039254  0.005000  0.648997  0.021711  \n",
       "4  0.010430  0.053188  0.006056  0.677630  0.086998  0.636568  0.027102  \n",
       "1  0.035180  0.087843  0.030821  0.127812  0.043218  0.539748  0.024735  "
      ]
     },
     "execution_count": 25,
     "metadata": {},
     "output_type": "execute_result"
    }
   ],
   "source": [
    "printmd('## Top 100 tokens')\n",
    "multi_pipeline_steps_cross_validate_scores(\n",
    "    default_pipelines,\n",
    "    drop_token_counts_not_in_top(transform_to_counts(\n",
    "        citation_stemmed_tokens\n",
    "    ), 100), y_all,\n",
    "    cv=KFold(n_splits=4, shuffle=True, random_state=42),\n",
    "    scoring=('roc_auc', 'accuracy', 'f1', 'precision', 'recall')\n",
    ").groupby(['sampler', 'model']).agg(['mean', 'std']).reset_index().sort_values(\n",
    "    ('roc_auc', 'mean'), ascending=False\n",
    ")"
   ]
  },
  {
   "cell_type": "code",
   "execution_count": 26,
   "metadata": {},
   "outputs": [
    {
     "data": {
      "text/markdown": [
       "## Simplified tokens"
      ],
      "text/plain": [
       "<IPython.core.display.Markdown object>"
      ]
     },
     "metadata": {},
     "output_type": "display_data"
    },
    {
     "data": {
      "text/markdown": [
       "X (8699, 1042) -> y (8699,)"
      ],
      "text/plain": [
       "<IPython.core.display.Markdown object>"
      ]
     },
     "metadata": {},
     "output_type": "display_data"
    },
    {
     "name": "stdout",
     "output_type": "stream",
     "text": [
      "                                             \r"
     ]
    },
    {
     "data": {
      "text/html": [
       "<div>\n",
       "<style scoped>\n",
       "    .dataframe tbody tr th:only-of-type {\n",
       "        vertical-align: middle;\n",
       "    }\n",
       "\n",
       "    .dataframe tbody tr th {\n",
       "        vertical-align: top;\n",
       "    }\n",
       "\n",
       "    .dataframe thead tr th {\n",
       "        text-align: left;\n",
       "    }\n",
       "</style>\n",
       "<table border=\"1\" class=\"dataframe\">\n",
       "  <thead>\n",
       "    <tr>\n",
       "      <th></th>\n",
       "      <th>sampler</th>\n",
       "      <th>model</th>\n",
       "      <th colspan=\"2\" halign=\"left\">accuracy</th>\n",
       "      <th colspan=\"2\" halign=\"left\">f1</th>\n",
       "      <th colspan=\"2\" halign=\"left\">precision</th>\n",
       "      <th colspan=\"2\" halign=\"left\">recall</th>\n",
       "      <th colspan=\"2\" halign=\"left\">roc_auc</th>\n",
       "    </tr>\n",
       "    <tr>\n",
       "      <th></th>\n",
       "      <th></th>\n",
       "      <th></th>\n",
       "      <th>mean</th>\n",
       "      <th>std</th>\n",
       "      <th>mean</th>\n",
       "      <th>std</th>\n",
       "      <th>mean</th>\n",
       "      <th>std</th>\n",
       "      <th>mean</th>\n",
       "      <th>std</th>\n",
       "      <th>mean</th>\n",
       "      <th>std</th>\n",
       "    </tr>\n",
       "  </thead>\n",
       "  <tbody>\n",
       "    <tr>\n",
       "      <th>3</th>\n",
       "      <td>RandomUnderSampler</td>\n",
       "      <td>BernoulliNB</td>\n",
       "      <td>0.759511</td>\n",
       "      <td>0.017811</td>\n",
       "      <td>0.162342</td>\n",
       "      <td>0.022696</td>\n",
       "      <td>0.091529</td>\n",
       "      <td>0.013823</td>\n",
       "      <td>0.724905</td>\n",
       "      <td>0.065173</td>\n",
       "      <td>0.821032</td>\n",
       "      <td>0.026977</td>\n",
       "    </tr>\n",
       "    <tr>\n",
       "      <th>0</th>\n",
       "      <td>RandomOverSampler</td>\n",
       "      <td>BernoulliNB</td>\n",
       "      <td>0.878722</td>\n",
       "      <td>0.011301</td>\n",
       "      <td>0.224094</td>\n",
       "      <td>0.035609</td>\n",
       "      <td>0.141924</td>\n",
       "      <td>0.026643</td>\n",
       "      <td>0.546805</td>\n",
       "      <td>0.089887</td>\n",
       "      <td>0.805516</td>\n",
       "      <td>0.013714</td>\n",
       "    </tr>\n",
       "    <tr>\n",
       "      <th>5</th>\n",
       "      <td>RandomUnderSampler</td>\n",
       "      <td>RandomForestClassifier</td>\n",
       "      <td>0.761809</td>\n",
       "      <td>0.027392</td>\n",
       "      <td>0.153122</td>\n",
       "      <td>0.012354</td>\n",
       "      <td>0.086603</td>\n",
       "      <td>0.007710</td>\n",
       "      <td>0.676163</td>\n",
       "      <td>0.115424</td>\n",
       "      <td>0.799807</td>\n",
       "      <td>0.031439</td>\n",
       "    </tr>\n",
       "    <tr>\n",
       "      <th>2</th>\n",
       "      <td>RandomOverSampler</td>\n",
       "      <td>RandomForestClassifier</td>\n",
       "      <td>0.964938</td>\n",
       "      <td>0.003064</td>\n",
       "      <td>0.098638</td>\n",
       "      <td>0.042229</td>\n",
       "      <td>0.300000</td>\n",
       "      <td>0.169558</td>\n",
       "      <td>0.059566</td>\n",
       "      <td>0.024704</td>\n",
       "      <td>0.758906</td>\n",
       "      <td>0.041107</td>\n",
       "    </tr>\n",
       "    <tr>\n",
       "      <th>4</th>\n",
       "      <td>RandomUnderSampler</td>\n",
       "      <td>DecisionTreeClassifier</td>\n",
       "      <td>0.687545</td>\n",
       "      <td>0.032738</td>\n",
       "      <td>0.132735</td>\n",
       "      <td>0.007328</td>\n",
       "      <td>0.072913</td>\n",
       "      <td>0.004610</td>\n",
       "      <td>0.746299</td>\n",
       "      <td>0.059366</td>\n",
       "      <td>0.715964</td>\n",
       "      <td>0.031260</td>\n",
       "    </tr>\n",
       "    <tr>\n",
       "      <th>1</th>\n",
       "      <td>RandomOverSampler</td>\n",
       "      <td>DecisionTreeClassifier</td>\n",
       "      <td>0.928612</td>\n",
       "      <td>0.003773</td>\n",
       "      <td>0.174619</td>\n",
       "      <td>0.017586</td>\n",
       "      <td>0.139863</td>\n",
       "      <td>0.020577</td>\n",
       "      <td>0.236300</td>\n",
       "      <td>0.024825</td>\n",
       "      <td>0.594096</td>\n",
       "      <td>0.010429</td>\n",
       "    </tr>\n",
       "  </tbody>\n",
       "</table>\n",
       "</div>"
      ],
      "text/plain": [
       "              sampler                   model  accuracy                  f1  \\\n",
       "                                                   mean       std      mean   \n",
       "3  RandomUnderSampler             BernoulliNB  0.759511  0.017811  0.162342   \n",
       "0   RandomOverSampler             BernoulliNB  0.878722  0.011301  0.224094   \n",
       "5  RandomUnderSampler  RandomForestClassifier  0.761809  0.027392  0.153122   \n",
       "2   RandomOverSampler  RandomForestClassifier  0.964938  0.003064  0.098638   \n",
       "4  RandomUnderSampler  DecisionTreeClassifier  0.687545  0.032738  0.132735   \n",
       "1   RandomOverSampler  DecisionTreeClassifier  0.928612  0.003773  0.174619   \n",
       "\n",
       "            precision              recall             roc_auc            \n",
       "        std      mean       std      mean       std      mean       std  \n",
       "3  0.022696  0.091529  0.013823  0.724905  0.065173  0.821032  0.026977  \n",
       "0  0.035609  0.141924  0.026643  0.546805  0.089887  0.805516  0.013714  \n",
       "5  0.012354  0.086603  0.007710  0.676163  0.115424  0.799807  0.031439  \n",
       "2  0.042229  0.300000  0.169558  0.059566  0.024704  0.758906  0.041107  \n",
       "4  0.007328  0.072913  0.004610  0.746299  0.059366  0.715964  0.031260  \n",
       "1  0.017586  0.139863  0.020577  0.236300  0.024825  0.594096  0.010429  "
      ]
     },
     "execution_count": 26,
     "metadata": {},
     "output_type": "execute_result"
    }
   ],
   "source": [
    "printmd('## Simplified tokens')\n",
    "multi_pipeline_steps_cross_validate_scores(\n",
    "    default_pipelines,\n",
    "    transform_to_counts(citation_simplified_stemmed_tokens), y_all,\n",
    "    cv=KFold(n_splits=4, shuffle=True, random_state=42),\n",
    "    scoring=('roc_auc', 'accuracy', 'f1', 'precision', 'recall')\n",
    ").groupby(['sampler', 'model']).agg(['mean', 'std']).reset_index().sort_values(\n",
    "    ('roc_auc', 'mean'), ascending=False\n",
    ")"
   ]
  },
  {
   "cell_type": "code",
   "execution_count": 27,
   "metadata": {},
   "outputs": [
    {
     "data": {
      "text/markdown": [
       "## Top 100 simplified tokens"
      ],
      "text/plain": [
       "<IPython.core.display.Markdown object>"
      ]
     },
     "metadata": {},
     "output_type": "display_data"
    },
    {
     "data": {
      "text/markdown": [
       "X (8699, 100) -> y (8699,)"
      ],
      "text/plain": [
       "<IPython.core.display.Markdown object>"
      ]
     },
     "metadata": {},
     "output_type": "display_data"
    },
    {
     "name": "stdout",
     "output_type": "stream",
     "text": [
      "                                             \r"
     ]
    },
    {
     "data": {
      "text/html": [
       "<div>\n",
       "<style scoped>\n",
       "    .dataframe tbody tr th:only-of-type {\n",
       "        vertical-align: middle;\n",
       "    }\n",
       "\n",
       "    .dataframe tbody tr th {\n",
       "        vertical-align: top;\n",
       "    }\n",
       "\n",
       "    .dataframe thead tr th {\n",
       "        text-align: left;\n",
       "    }\n",
       "</style>\n",
       "<table border=\"1\" class=\"dataframe\">\n",
       "  <thead>\n",
       "    <tr>\n",
       "      <th></th>\n",
       "      <th>sampler</th>\n",
       "      <th>model</th>\n",
       "      <th colspan=\"2\" halign=\"left\">accuracy</th>\n",
       "      <th colspan=\"2\" halign=\"left\">f1</th>\n",
       "      <th colspan=\"2\" halign=\"left\">precision</th>\n",
       "      <th colspan=\"2\" halign=\"left\">recall</th>\n",
       "      <th colspan=\"2\" halign=\"left\">roc_auc</th>\n",
       "    </tr>\n",
       "    <tr>\n",
       "      <th></th>\n",
       "      <th></th>\n",
       "      <th></th>\n",
       "      <th>mean</th>\n",
       "      <th>std</th>\n",
       "      <th>mean</th>\n",
       "      <th>std</th>\n",
       "      <th>mean</th>\n",
       "      <th>std</th>\n",
       "      <th>mean</th>\n",
       "      <th>std</th>\n",
       "      <th>mean</th>\n",
       "      <th>std</th>\n",
       "    </tr>\n",
       "  </thead>\n",
       "  <tbody>\n",
       "    <tr>\n",
       "      <th>0</th>\n",
       "      <td>RandomOverSampler</td>\n",
       "      <td>BernoulliNB</td>\n",
       "      <td>0.749166</td>\n",
       "      <td>0.008814</td>\n",
       "      <td>0.137942</td>\n",
       "      <td>0.020146</td>\n",
       "      <td>0.077657</td>\n",
       "      <td>0.012270</td>\n",
       "      <td>0.625101</td>\n",
       "      <td>0.059425</td>\n",
       "      <td>0.765077</td>\n",
       "      <td>0.015423</td>\n",
       "    </tr>\n",
       "    <tr>\n",
       "      <th>3</th>\n",
       "      <td>RandomUnderSampler</td>\n",
       "      <td>BernoulliNB</td>\n",
       "      <td>0.687663</td>\n",
       "      <td>0.017573</td>\n",
       "      <td>0.119992</td>\n",
       "      <td>0.014428</td>\n",
       "      <td>0.066032</td>\n",
       "      <td>0.008498</td>\n",
       "      <td>0.664464</td>\n",
       "      <td>0.061817</td>\n",
       "      <td>0.750865</td>\n",
       "      <td>0.032419</td>\n",
       "    </tr>\n",
       "    <tr>\n",
       "      <th>5</th>\n",
       "      <td>RandomUnderSampler</td>\n",
       "      <td>RandomForestClassifier</td>\n",
       "      <td>0.682605</td>\n",
       "      <td>0.027250</td>\n",
       "      <td>0.119861</td>\n",
       "      <td>0.016828</td>\n",
       "      <td>0.065859</td>\n",
       "      <td>0.009823</td>\n",
       "      <td>0.671258</td>\n",
       "      <td>0.048423</td>\n",
       "      <td>0.720261</td>\n",
       "      <td>0.025113</td>\n",
       "    </tr>\n",
       "    <tr>\n",
       "      <th>2</th>\n",
       "      <td>RandomOverSampler</td>\n",
       "      <td>RandomForestClassifier</td>\n",
       "      <td>0.962639</td>\n",
       "      <td>0.002564</td>\n",
       "      <td>0.074318</td>\n",
       "      <td>0.012500</td>\n",
       "      <td>0.194378</td>\n",
       "      <td>0.060817</td>\n",
       "      <td>0.047168</td>\n",
       "      <td>0.009823</td>\n",
       "      <td>0.647325</td>\n",
       "      <td>0.036498</td>\n",
       "    </tr>\n",
       "    <tr>\n",
       "      <th>4</th>\n",
       "      <td>RandomUnderSampler</td>\n",
       "      <td>DecisionTreeClassifier</td>\n",
       "      <td>0.600758</td>\n",
       "      <td>0.028625</td>\n",
       "      <td>0.087355</td>\n",
       "      <td>0.023646</td>\n",
       "      <td>0.047242</td>\n",
       "      <td>0.013196</td>\n",
       "      <td>0.586623</td>\n",
       "      <td>0.096523</td>\n",
       "      <td>0.592585</td>\n",
       "      <td>0.046114</td>\n",
       "    </tr>\n",
       "    <tr>\n",
       "      <th>1</th>\n",
       "      <td>RandomOverSampler</td>\n",
       "      <td>DecisionTreeClassifier</td>\n",
       "      <td>0.928612</td>\n",
       "      <td>0.005085</td>\n",
       "      <td>0.118403</td>\n",
       "      <td>0.018103</td>\n",
       "      <td>0.098699</td>\n",
       "      <td>0.019144</td>\n",
       "      <td>0.149212</td>\n",
       "      <td>0.016538</td>\n",
       "      <td>0.551805</td>\n",
       "      <td>0.007862</td>\n",
       "    </tr>\n",
       "  </tbody>\n",
       "</table>\n",
       "</div>"
      ],
      "text/plain": [
       "              sampler                   model  accuracy                  f1  \\\n",
       "                                                   mean       std      mean   \n",
       "0   RandomOverSampler             BernoulliNB  0.749166  0.008814  0.137942   \n",
       "3  RandomUnderSampler             BernoulliNB  0.687663  0.017573  0.119992   \n",
       "5  RandomUnderSampler  RandomForestClassifier  0.682605  0.027250  0.119861   \n",
       "2   RandomOverSampler  RandomForestClassifier  0.962639  0.002564  0.074318   \n",
       "4  RandomUnderSampler  DecisionTreeClassifier  0.600758  0.028625  0.087355   \n",
       "1   RandomOverSampler  DecisionTreeClassifier  0.928612  0.005085  0.118403   \n",
       "\n",
       "            precision              recall             roc_auc            \n",
       "        std      mean       std      mean       std      mean       std  \n",
       "0  0.020146  0.077657  0.012270  0.625101  0.059425  0.765077  0.015423  \n",
       "3  0.014428  0.066032  0.008498  0.664464  0.061817  0.750865  0.032419  \n",
       "5  0.016828  0.065859  0.009823  0.671258  0.048423  0.720261  0.025113  \n",
       "2  0.012500  0.194378  0.060817  0.047168  0.009823  0.647325  0.036498  \n",
       "4  0.023646  0.047242  0.013196  0.586623  0.096523  0.592585  0.046114  \n",
       "1  0.018103  0.098699  0.019144  0.149212  0.016538  0.551805  0.007862  "
      ]
     },
     "execution_count": 27,
     "metadata": {},
     "output_type": "execute_result"
    }
   ],
   "source": [
    "printmd('## Top 100 simplified tokens')\n",
    "multi_pipeline_steps_cross_validate_scores(\n",
    "    default_pipelines,\n",
    "    drop_token_counts_not_in_top(transform_to_counts(\n",
    "        citation_simplified_stemmed_tokens\n",
    "    ), 100), y_all,\n",
    "    cv=KFold(n_splits=4, shuffle=True, random_state=42),\n",
    "    scoring=('roc_auc', 'accuracy', 'f1', 'precision', 'recall')\n",
    ").groupby(['sampler', 'model']).agg(['mean', 'std']).reset_index().sort_values(\n",
    "    ('roc_auc', 'mean'), ascending=False\n",
    ")"
   ]
  },
  {
   "cell_type": "code",
   "execution_count": 28,
   "metadata": {},
   "outputs": [
    {
     "data": {
      "text/markdown": [
       "## Top 100 simplified tokens (not stemmed)"
      ],
      "text/plain": [
       "<IPython.core.display.Markdown object>"
      ]
     },
     "metadata": {},
     "output_type": "display_data"
    },
    {
     "data": {
      "text/markdown": [
       "X (8699, 100) -> y (8699,)"
      ],
      "text/plain": [
       "<IPython.core.display.Markdown object>"
      ]
     },
     "metadata": {},
     "output_type": "display_data"
    },
    {
     "name": "stdout",
     "output_type": "stream",
     "text": [
      "                                             \r"
     ]
    },
    {
     "data": {
      "text/html": [
       "<div>\n",
       "<style scoped>\n",
       "    .dataframe tbody tr th:only-of-type {\n",
       "        vertical-align: middle;\n",
       "    }\n",
       "\n",
       "    .dataframe tbody tr th {\n",
       "        vertical-align: top;\n",
       "    }\n",
       "\n",
       "    .dataframe thead tr th {\n",
       "        text-align: left;\n",
       "    }\n",
       "</style>\n",
       "<table border=\"1\" class=\"dataframe\">\n",
       "  <thead>\n",
       "    <tr>\n",
       "      <th></th>\n",
       "      <th>sampler</th>\n",
       "      <th>model</th>\n",
       "      <th colspan=\"2\" halign=\"left\">accuracy</th>\n",
       "      <th colspan=\"2\" halign=\"left\">f1</th>\n",
       "      <th colspan=\"2\" halign=\"left\">precision</th>\n",
       "      <th colspan=\"2\" halign=\"left\">recall</th>\n",
       "      <th colspan=\"2\" halign=\"left\">roc_auc</th>\n",
       "    </tr>\n",
       "    <tr>\n",
       "      <th></th>\n",
       "      <th></th>\n",
       "      <th></th>\n",
       "      <th>mean</th>\n",
       "      <th>std</th>\n",
       "      <th>mean</th>\n",
       "      <th>std</th>\n",
       "      <th>mean</th>\n",
       "      <th>std</th>\n",
       "      <th>mean</th>\n",
       "      <th>std</th>\n",
       "      <th>mean</th>\n",
       "      <th>std</th>\n",
       "    </tr>\n",
       "  </thead>\n",
       "  <tbody>\n",
       "    <tr>\n",
       "      <th>0</th>\n",
       "      <td>RandomOverSampler</td>\n",
       "      <td>BernoulliNB</td>\n",
       "      <td>0.771353</td>\n",
       "      <td>0.013045</td>\n",
       "      <td>0.151838</td>\n",
       "      <td>0.030162</td>\n",
       "      <td>0.086454</td>\n",
       "      <td>0.018472</td>\n",
       "      <td>0.635153</td>\n",
       "      <td>0.085004</td>\n",
       "      <td>0.764550</td>\n",
       "      <td>0.024135</td>\n",
       "    </tr>\n",
       "    <tr>\n",
       "      <th>3</th>\n",
       "      <td>RandomUnderSampler</td>\n",
       "      <td>BernoulliNB</td>\n",
       "      <td>0.727899</td>\n",
       "      <td>0.012197</td>\n",
       "      <td>0.138796</td>\n",
       "      <td>0.019128</td>\n",
       "      <td>0.077374</td>\n",
       "      <td>0.011508</td>\n",
       "      <td>0.684878</td>\n",
       "      <td>0.082602</td>\n",
       "      <td>0.757114</td>\n",
       "      <td>0.047379</td>\n",
       "    </tr>\n",
       "    <tr>\n",
       "      <th>5</th>\n",
       "      <td>RandomUnderSampler</td>\n",
       "      <td>RandomForestClassifier</td>\n",
       "      <td>0.689274</td>\n",
       "      <td>0.018019</td>\n",
       "      <td>0.119648</td>\n",
       "      <td>0.016595</td>\n",
       "      <td>0.065920</td>\n",
       "      <td>0.009799</td>\n",
       "      <td>0.658435</td>\n",
       "      <td>0.071850</td>\n",
       "      <td>0.733126</td>\n",
       "      <td>0.047011</td>\n",
       "    </tr>\n",
       "    <tr>\n",
       "      <th>2</th>\n",
       "      <td>RandomOverSampler</td>\n",
       "      <td>RandomForestClassifier</td>\n",
       "      <td>0.959535</td>\n",
       "      <td>0.005135</td>\n",
       "      <td>0.066198</td>\n",
       "      <td>0.030362</td>\n",
       "      <td>0.143317</td>\n",
       "      <td>0.096919</td>\n",
       "      <td>0.044613</td>\n",
       "      <td>0.019721</td>\n",
       "      <td>0.681172</td>\n",
       "      <td>0.010713</td>\n",
       "    </tr>\n",
       "    <tr>\n",
       "      <th>4</th>\n",
       "      <td>RandomUnderSampler</td>\n",
       "      <td>DecisionTreeClassifier</td>\n",
       "      <td>0.593972</td>\n",
       "      <td>0.023148</td>\n",
       "      <td>0.091219</td>\n",
       "      <td>0.007481</td>\n",
       "      <td>0.049158</td>\n",
       "      <td>0.004316</td>\n",
       "      <td>0.636344</td>\n",
       "      <td>0.037906</td>\n",
       "      <td>0.609464</td>\n",
       "      <td>0.017980</td>\n",
       "    </tr>\n",
       "    <tr>\n",
       "      <th>1</th>\n",
       "      <td>RandomOverSampler</td>\n",
       "      <td>DecisionTreeClassifier</td>\n",
       "      <td>0.931832</td>\n",
       "      <td>0.004087</td>\n",
       "      <td>0.121791</td>\n",
       "      <td>0.026075</td>\n",
       "      <td>0.107451</td>\n",
       "      <td>0.036342</td>\n",
       "      <td>0.146969</td>\n",
       "      <td>0.025660</td>\n",
       "      <td>0.551154</td>\n",
       "      <td>0.012377</td>\n",
       "    </tr>\n",
       "  </tbody>\n",
       "</table>\n",
       "</div>"
      ],
      "text/plain": [
       "              sampler                   model  accuracy                  f1  \\\n",
       "                                                   mean       std      mean   \n",
       "0   RandomOverSampler             BernoulliNB  0.771353  0.013045  0.151838   \n",
       "3  RandomUnderSampler             BernoulliNB  0.727899  0.012197  0.138796   \n",
       "5  RandomUnderSampler  RandomForestClassifier  0.689274  0.018019  0.119648   \n",
       "2   RandomOverSampler  RandomForestClassifier  0.959535  0.005135  0.066198   \n",
       "4  RandomUnderSampler  DecisionTreeClassifier  0.593972  0.023148  0.091219   \n",
       "1   RandomOverSampler  DecisionTreeClassifier  0.931832  0.004087  0.121791   \n",
       "\n",
       "            precision              recall             roc_auc            \n",
       "        std      mean       std      mean       std      mean       std  \n",
       "0  0.030162  0.086454  0.018472  0.635153  0.085004  0.764550  0.024135  \n",
       "3  0.019128  0.077374  0.011508  0.684878  0.082602  0.757114  0.047379  \n",
       "5  0.016595  0.065920  0.009799  0.658435  0.071850  0.733126  0.047011  \n",
       "2  0.030362  0.143317  0.096919  0.044613  0.019721  0.681172  0.010713  \n",
       "4  0.007481  0.049158  0.004316  0.636344  0.037906  0.609464  0.017980  \n",
       "1  0.026075  0.107451  0.036342  0.146969  0.025660  0.551154  0.012377  "
      ]
     },
     "execution_count": 28,
     "metadata": {},
     "output_type": "execute_result"
    }
   ],
   "source": [
    "printmd('## Top 100 simplified tokens (not stemmed)')\n",
    "multi_pipeline_steps_cross_validate_scores(\n",
    "    default_pipelines,\n",
    "    drop_token_counts_not_in_top(transform_to_counts(\n",
    "        citation_simplified_tokens\n",
    "    ), 100), y_all,\n",
    "    cv=KFold(n_splits=4, shuffle=True, random_state=42),\n",
    "    scoring=('roc_auc', 'accuracy', 'f1', 'precision', 'recall')\n",
    ").groupby(['sampler', 'model']).agg(['mean', 'std']).reset_index().sort_values(\n",
    "    ('roc_auc', 'mean'), ascending=False\n",
    ")"
   ]
  },
  {
   "cell_type": "code",
   "execution_count": 29,
   "metadata": {},
   "outputs": [
    {
     "data": {
      "text/markdown": [
       "## Top 100 simplified tokens (SVC)"
      ],
      "text/plain": [
       "<IPython.core.display.Markdown object>"
      ]
     },
     "metadata": {},
     "output_type": "display_data"
    },
    {
     "data": {
      "text/markdown": [
       "X (8699, 100) -> y (8699,)"
      ],
      "text/plain": [
       "<IPython.core.display.Markdown object>"
      ]
     },
     "metadata": {},
     "output_type": "display_data"
    },
    {
     "name": "stdout",
     "output_type": "stream",
     "text": [
      "                                             \r"
     ]
    },
    {
     "data": {
      "text/html": [
       "<div>\n",
       "<style scoped>\n",
       "    .dataframe tbody tr th:only-of-type {\n",
       "        vertical-align: middle;\n",
       "    }\n",
       "\n",
       "    .dataframe tbody tr th {\n",
       "        vertical-align: top;\n",
       "    }\n",
       "\n",
       "    .dataframe thead tr th {\n",
       "        text-align: left;\n",
       "    }\n",
       "</style>\n",
       "<table border=\"1\" class=\"dataframe\">\n",
       "  <thead>\n",
       "    <tr>\n",
       "      <th></th>\n",
       "      <th>sampler</th>\n",
       "      <th>model</th>\n",
       "      <th colspan=\"2\" halign=\"left\">accuracy</th>\n",
       "      <th colspan=\"2\" halign=\"left\">f1</th>\n",
       "      <th colspan=\"2\" halign=\"left\">precision</th>\n",
       "      <th colspan=\"2\" halign=\"left\">recall</th>\n",
       "      <th colspan=\"2\" halign=\"left\">roc_auc</th>\n",
       "    </tr>\n",
       "    <tr>\n",
       "      <th></th>\n",
       "      <th></th>\n",
       "      <th></th>\n",
       "      <th>mean</th>\n",
       "      <th>std</th>\n",
       "      <th>mean</th>\n",
       "      <th>std</th>\n",
       "      <th>mean</th>\n",
       "      <th>std</th>\n",
       "      <th>mean</th>\n",
       "      <th>std</th>\n",
       "      <th>mean</th>\n",
       "      <th>std</th>\n",
       "    </tr>\n",
       "  </thead>\n",
       "  <tbody>\n",
       "    <tr>\n",
       "      <th>2</th>\n",
       "      <td>RandomOverSampler</td>\n",
       "      <td>SVC</td>\n",
       "      <td>0.810897</td>\n",
       "      <td>0.007852</td>\n",
       "      <td>0.160991</td>\n",
       "      <td>0.022124</td>\n",
       "      <td>0.094039</td>\n",
       "      <td>0.014167</td>\n",
       "      <td>0.567218</td>\n",
       "      <td>0.074133</td>\n",
       "      <td>0.767412</td>\n",
       "      <td>0.016655</td>\n",
       "    </tr>\n",
       "    <tr>\n",
       "      <th>0</th>\n",
       "      <td>RandomOverSampler</td>\n",
       "      <td>BernoulliNB</td>\n",
       "      <td>0.749166</td>\n",
       "      <td>0.008814</td>\n",
       "      <td>0.137942</td>\n",
       "      <td>0.020146</td>\n",
       "      <td>0.077657</td>\n",
       "      <td>0.012270</td>\n",
       "      <td>0.625101</td>\n",
       "      <td>0.059425</td>\n",
       "      <td>0.765077</td>\n",
       "      <td>0.015423</td>\n",
       "    </tr>\n",
       "    <tr>\n",
       "      <th>3</th>\n",
       "      <td>RandomUnderSampler</td>\n",
       "      <td>BernoulliNB</td>\n",
       "      <td>0.687663</td>\n",
       "      <td>0.017573</td>\n",
       "      <td>0.119992</td>\n",
       "      <td>0.014428</td>\n",
       "      <td>0.066032</td>\n",
       "      <td>0.008498</td>\n",
       "      <td>0.664464</td>\n",
       "      <td>0.061817</td>\n",
       "      <td>0.750865</td>\n",
       "      <td>0.032419</td>\n",
       "    </tr>\n",
       "    <tr>\n",
       "      <th>5</th>\n",
       "      <td>RandomUnderSampler</td>\n",
       "      <td>SVC</td>\n",
       "      <td>0.712493</td>\n",
       "      <td>0.041683</td>\n",
       "      <td>0.116173</td>\n",
       "      <td>0.017459</td>\n",
       "      <td>0.064686</td>\n",
       "      <td>0.010538</td>\n",
       "      <td>0.584275</td>\n",
       "      <td>0.063375</td>\n",
       "      <td>0.719279</td>\n",
       "      <td>0.019105</td>\n",
       "    </tr>\n",
       "    <tr>\n",
       "      <th>4</th>\n",
       "      <td>RandomUnderSampler</td>\n",
       "      <td>DecisionTreeClassifier</td>\n",
       "      <td>0.600758</td>\n",
       "      <td>0.028625</td>\n",
       "      <td>0.087355</td>\n",
       "      <td>0.023646</td>\n",
       "      <td>0.047242</td>\n",
       "      <td>0.013196</td>\n",
       "      <td>0.586623</td>\n",
       "      <td>0.096523</td>\n",
       "      <td>0.592585</td>\n",
       "      <td>0.046114</td>\n",
       "    </tr>\n",
       "    <tr>\n",
       "      <th>1</th>\n",
       "      <td>RandomOverSampler</td>\n",
       "      <td>DecisionTreeClassifier</td>\n",
       "      <td>0.928612</td>\n",
       "      <td>0.005085</td>\n",
       "      <td>0.118403</td>\n",
       "      <td>0.018103</td>\n",
       "      <td>0.098699</td>\n",
       "      <td>0.019144</td>\n",
       "      <td>0.149212</td>\n",
       "      <td>0.016538</td>\n",
       "      <td>0.551805</td>\n",
       "      <td>0.007862</td>\n",
       "    </tr>\n",
       "  </tbody>\n",
       "</table>\n",
       "</div>"
      ],
      "text/plain": [
       "              sampler                   model  accuracy                  f1  \\\n",
       "                                                   mean       std      mean   \n",
       "2   RandomOverSampler                     SVC  0.810897  0.007852  0.160991   \n",
       "0   RandomOverSampler             BernoulliNB  0.749166  0.008814  0.137942   \n",
       "3  RandomUnderSampler             BernoulliNB  0.687663  0.017573  0.119992   \n",
       "5  RandomUnderSampler                     SVC  0.712493  0.041683  0.116173   \n",
       "4  RandomUnderSampler  DecisionTreeClassifier  0.600758  0.028625  0.087355   \n",
       "1   RandomOverSampler  DecisionTreeClassifier  0.928612  0.005085  0.118403   \n",
       "\n",
       "            precision              recall             roc_auc            \n",
       "        std      mean       std      mean       std      mean       std  \n",
       "2  0.022124  0.094039  0.014167  0.567218  0.074133  0.767412  0.016655  \n",
       "0  0.020146  0.077657  0.012270  0.625101  0.059425  0.765077  0.015423  \n",
       "3  0.014428  0.066032  0.008498  0.664464  0.061817  0.750865  0.032419  \n",
       "5  0.017459  0.064686  0.010538  0.584275  0.063375  0.719279  0.019105  \n",
       "4  0.023646  0.047242  0.013196  0.586623  0.096523  0.592585  0.046114  \n",
       "1  0.018103  0.098699  0.019144  0.149212  0.016538  0.551805  0.007862  "
      ]
     },
     "execution_count": 29,
     "metadata": {},
     "output_type": "execute_result"
    }
   ],
   "source": [
    "printmd('## Top 100 simplified tokens (SVC)')\n",
    "multi_pipeline_steps_cross_validate_scores(\n",
    "    create_pipelines([\n",
    "        ('sampler', default_samplers),\n",
    "        ('model', [\n",
    "            BernoulliNB(),\n",
    "            DecisionTreeClassifier(random_state=42),\n",
    "            SVC(random_state=42),\n",
    "        ])\n",
    "    ]),\n",
    "    drop_token_counts_not_in_top(transform_to_counts(\n",
    "        citation_simplified_stemmed_tokens\n",
    "    ), 100), y_all,\n",
    "    cv=KFold(n_splits=4, shuffle=True, random_state=42),\n",
    "    scoring=('roc_auc', 'accuracy', 'f1', 'precision', 'recall')\n",
    ").groupby(['sampler', 'model']).agg(['mean', 'std']).reset_index().sort_values(\n",
    "    ('roc_auc', 'mean'), ascending=False\n",
    ")"
   ]
  },
  {
   "cell_type": "code",
   "execution_count": 30,
   "metadata": {},
   "outputs": [
    {
     "data": {
      "text/markdown": [
       "Longer than **100** tokens: **358**"
      ],
      "text/plain": [
       "<IPython.core.display.Markdown object>"
      ]
     },
     "metadata": {},
     "output_type": "display_data"
    },
    {
     "data": {
      "text/markdown": [
       "Longer than **1000** tokens: **0**"
      ],
      "text/plain": [
       "<IPython.core.display.Markdown object>"
      ]
     },
     "metadata": {},
     "output_type": "display_data"
    },
    {
     "data": {
      "text/html": [
       "<div>\n",
       "<style scoped>\n",
       "    .dataframe tbody tr th:only-of-type {\n",
       "        vertical-align: middle;\n",
       "    }\n",
       "\n",
       "    .dataframe tbody tr th {\n",
       "        vertical-align: top;\n",
       "    }\n",
       "\n",
       "    .dataframe thead th {\n",
       "        text-align: right;\n",
       "    }\n",
       "</style>\n",
       "<table border=\"1\" class=\"dataframe\">\n",
       "  <thead>\n",
       "    <tr style=\"text-align: right;\">\n",
       "      <th></th>\n",
       "      <th>count</th>\n",
       "      <th>mean</th>\n",
       "      <th>std</th>\n",
       "      <th>min</th>\n",
       "      <th>25%</th>\n",
       "      <th>50%</th>\n",
       "      <th>75%</th>\n",
       "      <th>max</th>\n",
       "    </tr>\n",
       "  </thead>\n",
       "  <tbody>\n",
       "    <tr>\n",
       "      <th>num tokens</th>\n",
       "      <td>8699.0</td>\n",
       "      <td>44.172434</td>\n",
       "      <td>26.031167</td>\n",
       "      <td>4.0</td>\n",
       "      <td>28.0</td>\n",
       "      <td>38.0</td>\n",
       "      <td>53.0</td>\n",
       "      <td>286.0</td>\n",
       "    </tr>\n",
       "  </tbody>\n",
       "</table>\n",
       "</div>"
      ],
      "text/plain": [
       "             count       mean        std  min   25%   50%   75%    max\n",
       "num tokens  8699.0  44.172434  26.031167  4.0  28.0  38.0  53.0  286.0"
      ]
     },
     "execution_count": 30,
     "metadata": {},
     "output_type": "execute_result"
    }
   ],
   "source": [
    "sequence_lengths = pd.Series([len(s) for s in citation_tokens])\n",
    "printmd('Longer than **100** tokens: **%s**' % sum(sequence_lengths > 100))\n",
    "printmd('Longer than **1000** tokens: **%s**' % sum(sequence_lengths > 1000))\n",
    "sequence_lengths.describe().to_frame('num tokens').T"
   ]
  },
  {
   "cell_type": "code",
   "execution_count": 31,
   "metadata": {},
   "outputs": [
    {
     "data": {
      "text/plain": [
       "0.7819548872180451"
      ]
     },
     "execution_count": 31,
     "metadata": {},
     "output_type": "execute_result"
    }
   ],
   "source": [
    "# X_sampled, y_sampled = imblearn.under_sampling.RandomUnderSampler().fit_sample(\n",
    "#     X_train, y_train\n",
    "# )\n",
    "\n",
    "sentence_list = citation_stemmed_tokens\n",
    "\n",
    "X_train, X_test, y_train, y_test, athar_train_df, athar_test_df = train_test_split(drop_token_counts_not_in_top(\n",
    "    transform_to_counts(\n",
    "        sentence_list\n",
    "    ), 2000\n",
    "), y_all, athar_df, shuffle=True, test_size=0.5, stratify=None)\n",
    "\n",
    "# X_train_sampled, y_train_sampled = imblearn.over_sampling.RandomOverSampler().fit_sample(\n",
    "#     X_train, y_train\n",
    "# )\n",
    "\n",
    "X_train_sampled, y_train_sampled = imblearn.under_sampling.RandomUnderSampler().fit_sample(\n",
    "    X_train, y_train\n",
    ")\n",
    "\n",
    "X_test_sampled, y_test_sampled, X_test_sampled_indices = imblearn.under_sampling.RandomUnderSampler(\n",
    "    return_indices=True\n",
    ").fit_sample(X_test, y_test)\n",
    "\n",
    "model = BernoulliNB()\n",
    "model.fit(X_train_sampled, y_train_sampled)\n",
    "y_pred = model.predict(X_test_sampled)\n",
    "f1_score(y_test_sampled, y_pred)"
   ]
  },
  {
   "cell_type": "code",
   "execution_count": 32,
   "metadata": {},
   "outputs": [],
   "source": [
    "y_pred_proba = model.predict_proba(X_test_sampled)\n",
    "y_incorrect_mask = y_pred != y_test_sampled\n",
    "athar_test_sampled_df = athar_test_df.iloc[X_test_sampled_indices]"
   ]
  },
  {
   "cell_type": "code",
   "execution_count": 33,
   "metadata": {},
   "outputs": [
    {
     "data": {
      "text/markdown": [
       "## Wrongly classified as non-negative\n",
       "\n",
       " > **(sentiment: n, y_test: True, y_pred: False, y_proba: [0.81265585 0.18734415])**: For example, 10 million words of the American National Corpus (Ide et al. , 2002) will have manually corrected POS tags, a tenfold increase over the Penn Treebank (Marcus et al. , 1993), currently used for training POS taggers.\n",
       "\n",
       "> **(sentiment: n, y_test: True, y_pred: False, y_proba: [0.94784872 0.05215128])**: While both (Johnson, 2001) and (Klein and Manning, 2002) propose models which use the parameters of the generative model but train to optimize a discriminative criteria, neither proposes training algorithms which are computationally tractable enough to be used for broad coverage parsing.\n",
       "\n",
       "> **(sentiment: n, y_test: True, y_pred: False, y_proba: [0.79475429 0.20524571])**: The size of the development set used to generate 1 and 2 (1000 sentences) compensates the tendency of the unsmoothed MERT algorithm to overfit (Och, 2003) by providing a high ratio between number of variables and number of parameters to be estimated.\n",
       "\n",
       "> **(sentiment: n, y_test: True, y_pred: False, y_proba: [0.80222276 0.19777724])**: 2This can explain why previous attempts to use WordNet for generating sentence-level paraphrases (Barzilay and Lee, 2003; Quirk et al. , 2004) were unsuccessful.\n",
       "\n",
       "> **(sentiment: n, y_test: True, y_pred: False, y_proba: [0.84228409 0.15771591])**: String alignment with synchronous grammars is quite expensive even for simple synchronous formalisms like ITG (Wu, 1997)but Duchi et al.\n",
       "\n",
       "> **(sentiment: n, y_test: True, y_pred: False, y_proba: [0.57259307 0.42740693])**: 2 2.1 Word Alignment Adaptation Bi-directional Word Alignment In statistical translation models (Brown et al. , 1993), only one-to-one and more-to-one word alignment links can be found.\n",
       "\n",
       "> **(sentiment: n, y_test: True, y_pred: False, y_proba: [0.68283011 0.31716989])**: Despite ME theory and its related training algorithm (Darroch and Ratcliff, 1972) do not set restrictions on the range of feature functions1, popular NLP text books (Manning and Schutze, 1999) and research papers (Berger et al. , 1996) seem to limit them to binary features.\n",
       "\n",
       "> **(sentiment: n, y_test: True, y_pred: False, y_proba: [0.99085268 0.00914732])**: Hanks and Church (1990) proposed using pointwise mutual information to identify collocations in lexicography; however, the method may result in unacceptable collocations for low-count pairs.\n",
       "\n",
       "> **(sentiment: n, y_test: True, y_pred: False, y_proba: [0.89998442 0.10001558])**: Point-wise mutual information (PMI) is commonly used for computing the association of two terms (e.g., Turney 2002), which is defined as: nullnullnull null null,null null nullnullnull nullnullnullnull,nullnull nullnull null null null nullnullnullnullnull . However, we argue that PMI is not a suitable measure for our purpose.\n",
       "\n",
       "> **(sentiment: n, y_test: True, y_pred: False, y_proba: [0.71942301 0.28057699])**: Although, there are various manual/automatic evaluation methods for these systems, e.g., BLEU (Papineni et al. 2002), these methods are basically incapable of dealing with an MTsystem and a w/p-MT-system at the same time, as they have different output forms.\n",
       "\n",
       "> **(sentiment: n, y_test: True, y_pred: False, y_proba: [0.53537149 0.46462851])**: While SCL has been successfully applied to PoS tagging and Sentiment Analysis (Blitzer et al., 2006; Blitzer et al., 2007), its effectiveness for parsing was rather unexplored.\n",
       "\n",
       "> **(sentiment: n, y_test: True, y_pred: False, y_proba: [0.63959967 0.36040033])**: The program takes the output of char_align (Church, 1993), a robust alternative to sentence-based alignment programs, and applies word-level constraints using a version of Brown el al.'s Model 2 (Brown et al. , 1993), modified and extended to deal with robustness issues.\n",
       "\n",
       "> **(sentiment: n, y_test: True, y_pred: False, y_proba: [0.99327606 0.00672394])**: Unlike Church and Hanks (1990), Smadja (1993) goes beyond the \"two-word\" limitation and deals with \"collocations of arbitrary length\".\n",
       "\n",
       "> **(sentiment: n, y_test: True, y_pred: False, y_proba: [0.7768653 0.2231347])**: Though taggers based on dependency networks (Toutanova et al. , 2003), SVM (Gimenez and M`arquez, 2003), MaxEnt (Ratnaparkhi, 1996), CRF (Smith et al. , 2005), and other methods may reach slightly better results, their train/test cycle is orders of magnitude longer.\n",
       "\n",
       "> **(sentiment: n, y_test: True, y_pred: False, y_proba: [9.99893023e-01 1.06977080e-04])**: In the thriving area of research on automatic analysis and processing of product reviews (Hu and Liu 2004; Turney 2002; Pang and Lee 2005), little attention has been paid to the important task studied here  assessing review helpfulness.\n",
       "\n",
       "> **(sentiment: n, y_test: True, y_pred: False, y_proba: [0.78456966 0.21543034])**: Our system improves over the latent named-entity tagging in Haghighi and Klein (2007), from 61% to 87%.\n",
       "\n",
       "> **(sentiment: n, y_test: True, y_pred: False, y_proba: [0.80515402 0.19484598])**: three models in (Collins, 1997) are susceptible to the O(n 3) method (cf.\n",
       "\n",
       "> **(sentiment: n, y_test: True, y_pred: False, y_proba: [0.67120133 0.32879867])**: In addition, the clustering methods used, such as HMMs and Browns algorithm (Brown et al., 1992), seem unable to adequately capture the semantics of MNs since they are based only on the information of adjacent words.\n",
       "\n",
       "> **(sentiment: n, y_test: True, y_pred: False, y_proba: [0.51522833 0.48477167])**: Unfortunately, this is not the case for such widely used MT evaluation metrics as BLEU (Papineni et al. , 2002) and NIST (Doddington, 2002).\n",
       "\n",
       "> **(sentiment: n, y_test: True, y_pred: False, y_proba: [0.52726732 0.47273268])**: We want to note that our WordNetbased method outperforms that of Hughes and Ramage (2007), which uses a similar method.\n",
       "\n",
       "> **(sentiment: n, y_test: True, y_pred: False, y_proba: [0.9598111 0.0401889])**: Many approaches for POS tagging have been developed in the past, including rule-based tagging (Brill, 1995), HMM taggers (Brants, 2000; Cutting and others, 1992), maximum-entropy models (Rathnaparki, 1996), cyclic dependency networks (Toutanova et al. , 2003), memory-based learning (Daelemans et al. , 1996), etc. All of these approaches require either a large amount of annotated training data (for supervised tagging) or a lexicon listing all possible tags for each word (for unsupervised tagging).\n",
       "\n",
       "> **(sentiment: n, y_test: True, y_pred: False, y_proba: [9.99537844e-01 4.62156400e-04])**: 2 Previous work on Sentiment Analysis Some prior studies on sentiment analysis focused on the document-level classification of sentiment (Turney, 2002; Pang et al. , 2002) where a document is assumed to have only a single sentiment, thus these studies are not applicable to our goal.\n",
       "\n",
       "> **(sentiment: n, y_test: True, y_pred: False, y_proba: [0.52396767 0.47603233])**: As one can see in Table 4, the resulting parser ranks among the best lexicalized parsers, beating those of Collins (1999) and Charniak and Johnson (2005).8 Its F1 performance is a 27% reduction in error over Matsuzaki et al.\n",
       "\n",
       "> **(sentiment: n, y_test: True, y_pred: False, y_proba: [0.91091138 0.08908862])**: a time-consuming process (Litman and Pan, 2002; Marcus et al. , 1993; Xia et al. , 2000; Wiebe, 2002).\n",
       "\n",
       "> **(sentiment: n, y_test: True, y_pred: False, y_proba: [0.76387747 0.23612253])**: Experiments, by using 4 algorithms and through visualization techniques, revealed that clustering is a worthless effort for paraphrase corpora construction, contrary to the literature claims (Barzilay & Lee, 2003).\n",
       "\n",
       "> **(sentiment: n, y_test: True, y_pred: False, y_proba: [0.83552395 0.16447605])**: Thirdly, (Shen et al., 2008) deploys the dependency language model to augment the lexical language model probability be1183 tween two head words but never seek a full dependency graph.\n",
       "\n",
       "> **(sentiment: n, y_test: True, y_pred: False, y_proba: [0.50263089 0.49736911])**: 13Huang and Chiang (2007) give an informal example, but do not elaborate on it.\n",
       "\n",
       "> **(sentiment: n, y_test: True, y_pred: False, y_proba: [0.82738147 0.17261853])**: Secondly, while most pronoun resolution evaluations simply exclude non-referential pronouns, recent unsupervised approaches (Cherry and Bergsma, 2005; Haghighi and Klein, 2007) must deal with all pronouns in unrestricted text, and therefore need robust modules to automatically handle non-referential instances.\n",
       "\n",
       "> **(sentiment: n, y_test: True, y_pred: False, y_proba: [0.98595971 0.01404029])**: Some are the result of inconsistency in labeling in the training data (Ratnaparkhi 1996), which usually reflects a lack of linguistic clarity or determination of the correct part of speech in context."
      ],
      "text/plain": [
       "<IPython.core.display.Markdown object>"
      ]
     },
     "metadata": {},
     "output_type": "display_data"
    }
   ],
   "source": [
    "def show_sentence_results(mask, title):\n",
    "    df = athar_test_sampled_df[mask]\n",
    "    printmd('## %s\\n\\n %s' % (title, '\\n\\n'.join(\n",
    "        '> **(sentiment: %s, y_test: %s, y_pred: %s, y_proba: %s)**: %s' % (\n",
    "            sentiment, _y_test, _y_pred, _y_proba, s\n",
    "        )\n",
    "        for s, sentiment, _y_test, _y_pred, _y_proba in zip(\n",
    "            df['citation_text'], df['sentiment'], y_test_sampled[mask], y_pred[mask], y_pred_proba[mask]\n",
    "        )\n",
    "    )))\n",
    "\n",
    "show_sentence_results(y_incorrect_mask & (~y_pred), \"Wrongly classified as non-negative\")"
   ]
  },
  {
   "cell_type": "code",
   "execution_count": 34,
   "metadata": {},
   "outputs": [
    {
     "data": {
      "text/markdown": [
       "## Wrongly classified as negative\n",
       "\n",
       " > **(sentiment: o, y_test: False, y_pred: True, y_proba: [2.26526774e-05 9.99977347e-01])**: 1 Introduction With the introduction of the BLEU metric for machine translation evaluation (Papineni et al, 2002), the advantages of doing automatic evaluation for various NLP applications have become increasingly appreciated: they allow for faster implement-evaluate cycles (by by-passing the human evaluation bottleneck), less variation in evaluation performance due to errors in human assessor judgment, and, not least, the possibility of hill-climbing on such metrics in order to improve system performance (Och 2003).\n",
       "\n",
       "> **(sentiment: o, y_test: False, y_pred: True, y_proba: [0.4697319 0.5302681])**: For example, Och (2003) shows how to train a log-linear translation model not by maximizing the likelihood of training data, but maximizing the BLEU score (among other metrics) of the model on 53 the data.\n",
       "\n",
       "> **(sentiment: o, y_test: False, y_pred: True, y_proba: [0.05859391 0.94140609])**: We use these tuples to calculate a balanced f-score against the gold alignment tuples.4 Method Dict size f-score Gold 28 100.0 Monotone 39 68.9 IBM-1 (Brown et al., 1993) 30 80.3 IBM-4 (Brown et al., 1993) 29 86.9 IP 28 95.9 The last line shows an average f-score over the 8 tied IP solutions.\n",
       "\n",
       "> **(sentiment: o, y_test: False, y_pred: True, y_proba: [0.00255489 0.99744511])**: But it makes obvious that (Ratnaparkhi et al. , 1994) were tackling a problem different from (Hindle and Rooth, 1993) given the fact that their baseline was at 59% guessing noun attachment (rather than 67% in the Hindle and Rooth experiments).3 Of course, the baseline is not a direct indicator of the difficulty of the disambiguation task.\n",
       "\n",
       "> **(sentiment: o, y_test: False, y_pred: True, y_proba: [0.00207783 0.99792217])**: 2.2 Motivation from previous work 2.2.1 Parsing In recent years, the success of statistical parsing techniques can be attributed to several factors, such as the increasing size of computing machinery to accommodate larger models, the availability of resources such as the Penn Treebank (Marcus et al. , 1993) and the success of machine learning techniques for lowerlevel NLP problems, such as part-of-speech tagging (Church, 1988; Brill, 1995), and PPattachment (Brill and Resnik, 1994; Collins and Brooks, 1995).\n",
       "\n",
       "> **(sentiment: o, y_test: False, y_pred: True, y_proba: [0.06248496 0.93751504])**: This conclusion is supported by the fact that true IMT is not, to our knowledge, used in most modern translator's support environments, eg (Eurolang, 1995; I,'rederking et al. , 1993; IBM, 1995; Kugler et al. , 1991; Nirenburg, 1992; ~li'ados, 1995).\n",
       "\n",
       "> **(sentiment: o, y_test: False, y_pred: True, y_proba: [0.05155851 0.94844149])**: The word alignment used in GHKM is usually computed independent ofthesyntacticstructure,andasDeNeroandKlein (2007) and May and Knight (2007) have noted, Ch-En En-Ch Union Heuristic 28.6% 33.0% 45.9% 20.1% Table 1: Percentage of corpus used to generate big templates, based on different word alignments 9-12 13-20 21 Ch-En 18.2% 17.4% 64.4% En-Ch 15.9% 20.7% 63.4% Union 9.8% 15.1% 75.1% Heuristic 24.6% 27.9% 47.5% Table 2: In the selected big templates, the distribution of words in the templates of different sizes, which are measured based on the number of symbols in their RHSs is not the best for SSMT systems.\n",
       "\n",
       "> **(sentiment: o, y_test: False, y_pred: True, y_proba: [0.05235738 0.94764262])**: 2 The IBM Model 4 For the work described in this paper we used a modified version of the statistical machine translation tool developed in the context of the 1999 Johns HopkinsSummer Workshop (Al-Onaizan et al. , 1999), which implements IBM translation model 4 (Brown et al. , 1993).\n",
       "\n",
       "> **(sentiment: o, y_test: False, y_pred: True, y_proba: [0.1137113 0.8862887])**: (Brown et al. , 1993) introduced five statistical translation models (IBM Models 1  5).\n",
       "\n",
       "> **(sentiment: p, y_test: False, y_pred: True, y_proba: [0.0099606 0.9900394])**: In particular, we have implemented an unsupervised morphological analyzer that outperforms Goldsmith s (2001) Linguistica and Creutz and Lagus s (2005) Morfessor for our English and Bengali datasets and compares favorably to the bestperforming morphological parsers in MorphoChallenge 20053 (see Dasgupta and Ng (2007)).\n",
       "\n",
       "> **(sentiment: o, y_test: False, y_pred: True, y_proba: [0.03591034 0.96408966])**: Expectation Maximization does surprisingly well on larger data sets and is competitive with the Bayesian estimators at least in terms of cross-validation accuracy, confirming the results reported by Johnson (2007).\n",
       "\n",
       "> **(sentiment: o, y_test: False, y_pred: True, y_proba: [0.10132082 0.89867918])**: Furthermore, I plan to apply my parsers in other domains (e.g. , biomedical data) (Blitzer et al. , 2006) besides treebank data, to investigate the effectiveness and generality of my approaches.\n",
       "\n",
       "> **(sentiment: o, y_test: False, y_pred: True, y_proba: [0.34067845 0.65932155])**: The trends are the same as in (McClosky et al. , 2006): Adding NANC data improves parsing performance on BROWN development considerably, improving the f-score from 83.9% to 86.4%.\n",
       "\n",
       "> **(sentiment: o, y_test: False, y_pred: True, y_proba: [0.43618611 0.56381389])**: Some of the alignment sets also have links which are not Sure links but are Possible links (Och and Ney 2003).\n",
       "\n",
       "> **(sentiment: o, y_test: False, y_pred: True, y_proba: [0.00384115 0.99615885])**: Our experimental results display that our SDB model achieves a substantial improvement over the baseline and significantly outperforms XP+ according to the BLEU metric (Papineni et al., 2002).\n",
       "\n",
       "> **(sentiment: o, y_test: False, y_pred: True, y_proba: [0.49058412 0.50941588])**: 2 Background: Overview of BLEU This section briefly describes the original BLEU (Papineni et al. , 2002b)1, which was designed for English translation evaluation, so English sentences are used as examples in this section.\n",
       "\n",
       "> **(sentiment: o, y_test: False, y_pred: True, y_proba: [0.03813847 0.96186153])**: But because we want the insertion state a1a16a20 to model digressions or unseen topics, we take the novel step of forcing its language model to be complementary to those of the other states by setting a2 a3a27a38 a21 a8 a8 a4 a8 a24 a26a11a28a30a29a6 a39a41a40a43a42a45a44a16a46 a1a48a47a1a50a49 a20 a2 a3 a26a17a21 a8a9a8 a4 a8 a24 a51a53a52a55a54a57a56 a21 a39a58a40a43a42a45a44a16a46 a1a59a47a1a50a49 a20 a2 a3a27a26a11a21a50a60 a4 a8 a24a30a24 a17 4Following Barzilay and Lee (2003), proper names, numbers and dates are (temporarily) replaced with generic tokens to help ensure that clusters contain sentences describing the same event type, rather than same actual event.\n",
       "\n",
       "> **(sentiment: o, y_test: False, y_pred: True, y_proba: [0.18880003 0.81119997])**: (2003), a trigram target language model, an order model, word count, phrase count, average phrase size functions, and whole-sentence IBM Model 1 logprobabilities in both directions (Och et al. 2004).\n",
       "\n",
       "> **(sentiment: o, y_test: False, y_pred: True, y_proba: [0.18875035 0.81124965])**: Whereas Ratnaparkhi (1996) used feature support cutoffs and early stopping to stop overfitting of the model, and Collins (2002) contends that including low support features harms a maximum entropy model, our results show that low support features are useful in a regularized maximum entropy model.\n",
       "\n",
       "> **(sentiment: o, y_test: False, y_pred: True, y_proba: [0.49677433 0.50322567])**: Following previous work in statistical MT (Brown et al., 1993), we envision a noisy-channel model in which a language model generates English, and then a translation model transforms English trees into Chinese.\n",
       "\n",
       "> **(sentiment: o, y_test: False, y_pred: True, y_proba: [0.18634208 0.81365792])**: Dialogs Speakers Turns Words Fragments Distinct Words Distinct Words/POS Singleton Words Singleton Words/POS Intonational Phrases Speech Repairs 98 34 6163 58298 756 859 1101 252 350 10947 2396 Table 1: Size of the Trains Corpus 2.1 POS Annotations Our POS tagset is based on the Penn Treebank tagset (Marcus et al. , 1993), but modified to include tags for discourse markers and end-of-turns, and to provide richer syntactic information (Heeman, 1997).\n",
       "\n",
       "> **(sentiment: o, y_test: False, y_pred: True, y_proba: [0.29114584 0.70885416])**: First, we need to determine whether or not the positive effect of SVD feature selection is preserved in more complex feature spaces such as syntactic feature spaces as those used in (Snow et al., 2006).\n",
       "\n",
       "> **(sentiment: o, y_test: False, y_pred: True, y_proba: [0.34502358 0.65497642])**: These joint counts are estimated using the phrase induction algorithm described in (Koehn et al. , 2003), with symmetrized word alignments generated using IBM model 2 (Brown et al. , 1993).\n",
       "\n",
       "> **(sentiment: o, y_test: False, y_pred: True, y_proba: [0.01502846 0.98497154])**: (1997), Johnson (1998)--that conditioning the probabilities of structures on the context within which they appear, for example on the lexical head of a constituent (Charniak 1997; Collins 1997), on the label of its parent nonterrninal (Johnson 1998), or, ideally, on both and many other things besides, leads to a much better parsing model and results in higher parsing accuracies.\n",
       "\n",
       "> **(sentiment: o, y_test: False, y_pred: True, y_proba: [0.49836264 0.50163736])**: Some existing resources contain lists of subjective words (e.g. , Levins desire verbs (1993)), and some empirical methods in NLP have automatically identified adjectives, verbs, and N-grams that are statistically associated with subjective language (e.g. , (Turney, 2002; Hatzivassiloglou and McKeown, 1997; Wiebe, 2000; Wiebe et al. , 2001)).\n",
       "\n",
       "> **(sentiment: o, y_test: False, y_pred: True, y_proba: [0.30084391 0.69915609])**: 8This result is presented as 0.053 with the official ROUGE scorer (Lin, 2004).\n",
       "\n",
       "> **(sentiment: o, y_test: False, y_pred: True, y_proba: [0.48103389 0.51896611])**: Wu (1997)s Inversion Transduction Grammar, as well as tree-transformation models of translation such as Yamada and Knight (2001), Galley et al.\n",
       "\n",
       "> **(sentiment: o, y_test: False, y_pred: True, y_proba: [0.23058278 0.76941722])**: In many cases, improving semi-supervised models was done by seeding these models with domain information taken from dictionaries or ontology (Cohen and Sarawagi, 2004; Collins and Singer, 1999; Haghighi and Klein, 2006; Thelen and Riloff, 2002).\n",
       "\n",
       "> **(sentiment: o, y_test: False, y_pred: True, y_proba: [0.27900263 0.72099737])**: Therefore, other machine learning techniques such as perceptron (Collins, 2002) could also be applied for this problem."
      ],
      "text/plain": [
       "<IPython.core.display.Markdown object>"
      ]
     },
     "metadata": {},
     "output_type": "display_data"
    }
   ],
   "source": [
    "show_sentence_results(y_incorrect_mask & (y_pred), \"Wrongly classified as negative\")"
   ]
  }
 ],
 "metadata": {
  "kernelspec": {
   "display_name": "Python 3",
   "language": "python",
   "name": "python3"
  },
  "language_info": {
   "codemirror_mode": {
    "name": "ipython",
    "version": 3
   },
   "file_extension": ".py",
   "mimetype": "text/x-python",
   "name": "python",
   "nbconvert_exporter": "python",
   "pygments_lexer": "ipython3",
   "version": "3.6.5"
  }
 },
 "nbformat": 4,
 "nbformat_minor": 2
}
