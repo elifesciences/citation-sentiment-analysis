{
 "cells": [
  {
   "cell_type": "code",
   "execution_count": 1,
   "metadata": {},
   "outputs": [],
   "source": [
    "import warnings\n",
    "warnings.filterwarnings('ignore')\n",
    "\n",
    "import nltk\n",
    "from nltk.sentiment.vader import SentimentIntensityAnalyzer\n",
    "\n",
    "from textblob import TextBlob\n",
    "\n",
    "warnings.filterwarnings('default')"
   ]
  },
  {
   "cell_type": "code",
   "execution_count": 2,
   "metadata": {},
   "outputs": [],
   "source": [
    "import sys\n",
    "sys.path.append('../')\n",
    "\n",
    "from citation_sentiment_analysis.utils.jupyter import printmd"
   ]
  },
  {
   "cell_type": "code",
   "execution_count": 3,
   "metadata": {},
   "outputs": [],
   "source": [
    "citation_sentences = [\n",
    "    \"Our results contrast with the high rate of XMRV detection reported by Lombardi et al. among\"\n",
    "    \" both CFS patients and controls,\",\n",
    "    \"but are in agreement with recent data reported in two large studies in the UK and a smaller study\"\n",
    "    \" in the Netherlands\",\n",
    "    \"but are in agreement with recent data reported in two large studies in the UK and a smaller study\"\n",
    "    \" in the Netherlands that could not detect XMRV sequences in CFS patients and one UK study that\"\n",
    "    \" also failed to detect specific XMRV neutralizing antibody responses in CFS.\"\n",
    "]"
   ]
  },
  {
   "cell_type": "code",
   "execution_count": 4,
   "metadata": {},
   "outputs": [
    {
     "name": "stdout",
     "output_type": "stream",
     "text": [
      "[nltk_data] Downloading package vader_lexicon to\n",
      "[nltk_data]     /home/jovyan/nltk_data...\n",
      "[nltk_data]   Package vader_lexicon is already up-to-date!\n"
     ]
    },
    {
     "data": {
      "text/plain": [
       "True"
      ]
     },
     "execution_count": 4,
     "metadata": {},
     "output_type": "execute_result"
    }
   ],
   "source": [
    "nltk.download('vader_lexicon')"
   ]
  },
  {
   "cell_type": "code",
   "execution_count": 5,
   "metadata": {},
   "outputs": [
    {
     "data": {
      "text/markdown": [
       "> Our results contrast with the high rate of XMRV detection reported by Lombardi et al. among both CFS patients and controls,\n",
       "\n",
       "**nltk vader result**: {'neg': 0.0, 'neu': 1.0, 'pos': 0.0, 'compound': 0.0}\n",
       "\n",
       "**Textblob polarity**: 0.16"
      ],
      "text/plain": [
       "<IPython.core.display.Markdown object>"
      ]
     },
     "metadata": {},
     "output_type": "display_data"
    },
    {
     "data": {
      "text/markdown": [
       "> but are in agreement with recent data reported in two large studies in the UK and a smaller study in the Netherlands\n",
       "\n",
       "**nltk vader result**: {'neg': 0.0, 'neu': 0.823, 'pos': 0.177, 'compound': 0.6486}\n",
       "\n",
       "**Textblob polarity**: 0.07142857142857142"
      ],
      "text/plain": [
       "<IPython.core.display.Markdown object>"
      ]
     },
     "metadata": {},
     "output_type": "display_data"
    },
    {
     "data": {
      "text/markdown": [
       "> but are in agreement with recent data reported in two large studies in the UK and a smaller study in the Netherlands that could not detect XMRV sequences in CFS patients and one UK study that also failed to detect specific XMRV neutralizing antibody responses in CFS.\n",
       "\n",
       "**nltk vader result**: {'neg': 0.084, 'neu': 0.834, 'pos': 0.082, 'compound': -0.0387}\n",
       "\n",
       "**Textblob polarity**: -0.05714285714285714"
      ],
      "text/plain": [
       "<IPython.core.display.Markdown object>"
      ]
     },
     "metadata": {},
     "output_type": "display_data"
    }
   ],
   "source": [
    "sia = SentimentIntensityAnalyzer()\n",
    "for s in citation_sentences:\n",
    "    printmd('\\n\\n'.join([\n",
    "        '> %s',\n",
    "        '**nltk vader result**: %s',\n",
    "        '**Textblob polarity**: %s'\n",
    "    ]) % (s, sia.polarity_scores(s), TextBlob(s).polarity))"
   ]
  }
 ],
 "metadata": {
  "kernelspec": {
   "display_name": "Python 3",
   "language": "python",
   "name": "python3"
  },
  "language_info": {
   "codemirror_mode": {
    "name": "ipython",
    "version": 3
   },
   "file_extension": ".py",
   "mimetype": "text/x-python",
   "name": "python",
   "nbconvert_exporter": "python",
   "pygments_lexer": "ipython3",
   "version": "3.6.5"
  }
 },
 "nbformat": 4,
 "nbformat_minor": 2
}
